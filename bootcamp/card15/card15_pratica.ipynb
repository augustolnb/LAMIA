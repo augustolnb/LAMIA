{
  "nbformat": 4,
  "nbformat_minor": 0,
  "metadata": {
    "colab": {
      "provenance": [],
      "collapsed_sections": [
        "04kG0MMIwjWs"
      ]
    },
    "kernelspec": {
      "name": "python3",
      "display_name": "Python 3"
    },
    "language_info": {
      "name": "python"
    }
  },
  "cells": [
    {
      "cell_type": "markdown",
      "source": [
        "### importações"
      ],
      "metadata": {
        "id": "04kG0MMIwjWs"
      }
    },
    {
      "cell_type": "code",
      "source": [
        "!pip install tensorflow==2.16.1"
      ],
      "metadata": {
        "id": "m7QQ_ys5vFWF"
      },
      "execution_count": null,
      "outputs": []
    },
    {
      "cell_type": "code",
      "source": [
        "import tensorflow as tf\n",
        "print(tf.__version__)"
      ],
      "metadata": {
        "id": "ogK1Sv76qxBB",
        "colab": {
          "base_uri": "https://localhost:8080/"
        },
        "outputId": "a302702b-75c4-447d-d819-7d213ecfbaba"
      },
      "execution_count": 1,
      "outputs": [
        {
          "output_type": "stream",
          "name": "stdout",
          "text": [
            "2.18.0\n"
          ]
        }
      ]
    },
    {
      "cell_type": "code",
      "source": [
        "import numpy as np"
      ],
      "metadata": {
        "id": "pAoHoVtMjVU4"
      },
      "execution_count": 2,
      "outputs": []
    },
    {
      "cell_type": "code",
      "source": [
        "import tempfile\n",
        "import zipfile"
      ],
      "metadata": {
        "id": "_F8LcYFOikxz"
      },
      "execution_count": 3,
      "outputs": []
    },
    {
      "cell_type": "code",
      "source": [
        "import os\n",
        "import shutil\n",
        "from sklearn.model_selection import train_test_split"
      ],
      "metadata": {
        "id": "z8wSbpMqiWvA"
      },
      "execution_count": 4,
      "outputs": []
    },
    {
      "cell_type": "code",
      "source": [
        "from tensorflow.keras.models import Sequential\n",
        "from tensorflow.keras.layers import InputLayer, Dense, Dropout, Flatten, Conv2D, MaxPooling2D, BatchNormalization\n",
        "from tensorflow.keras.preprocessing import image\n",
        "from tensorflow.keras.preprocessing.image import ImageDataGenerator"
      ],
      "metadata": {
        "id": "PgRUnk-Fpxzo"
      },
      "execution_count": 25,
      "outputs": []
    },
    {
      "cell_type": "markdown",
      "source": [
        "### base de dados"
      ],
      "metadata": {
        "id": "9jiU7WqrwpuW"
      }
    },
    {
      "cell_type": "code",
      "source": [
        "temp_dir = tempfile.TemporaryDirectory()\n",
        "print(temp_dir)"
      ],
      "metadata": {
        "colab": {
          "base_uri": "https://localhost:8080/"
        },
        "id": "OkKYSAAYwpKM",
        "outputId": "04183615-e004-4a27-9011-9a1134a8835e"
      },
      "execution_count": 5,
      "outputs": [
        {
          "output_type": "stream",
          "name": "stdout",
          "text": [
            "<TemporaryDirectory '/tmp/tmp1hze9187'>\n"
          ]
        }
      ]
    },
    {
      "cell_type": "code",
      "source": [
        "with zipfile.ZipFile('/content/dataset-3-classes.zip', 'r') as zip_ref:\n",
        "    zip_ref.extractall(temp_dir.name)"
      ],
      "metadata": {
        "id": "RFf--AD2i8h9"
      },
      "execution_count": 33,
      "outputs": []
    },
    {
      "cell_type": "code",
      "source": [
        "ds_path = os.path.join(temp_dir.name, 'dataset-3-classes')\n",
        "\n",
        "novo_ds = f'{temp_dir.name}/novo_ds'\n",
        "\n",
        "test_size = 0.2\n",
        "\n",
        "# Criar pastas de treinamento e teste\n",
        "os.makedirs(os.path.join(novo_ds, \"treinamento\"), exist_ok=True)\n",
        "os.makedirs(os.path.join(novo_ds, \"teste\"), exist_ok=True)\n",
        "\n",
        "# Iterar sobre cada classe (cavalo, vaca, ovelha)\n",
        "for classe in os.listdir(ds_path):\n",
        "    classe_path = os.path.join(ds_path, classe)\n",
        "\n",
        "    # Listar todas as imagens da classe\n",
        "    imagens = [img for img in os.listdir(classe_path) if img.lower().endswith(('.jpg', '.png', '.jpeg'))]\n",
        "\n",
        "    # Verificar se há imagens na pasta\n",
        "    if not imagens:\n",
        "        print(f\"Aviso: Nenhuma imagem encontrada na pasta '{classe}'. Pulando...\")\n",
        "        continue\n",
        "\n",
        "    # Dividir as imagens em treinamento e teste\n",
        "    treinamento, teste = train_test_split(imagens, test_size=test_size, random_state=42)\n",
        "\n",
        "    # Criar subpastas de treinamento e teste para a classe\n",
        "    treinamento_classe_path = os.path.join(novo_ds, \"treinamento\", classe)\n",
        "    teste_classe_path = os.path.join(novo_ds, \"teste\", classe)\n",
        "\n",
        "    os.makedirs(treinamento_classe_path, exist_ok=True)\n",
        "    os.makedirs(teste_classe_path, exist_ok=True)\n",
        "\n",
        "    # Mover as imagens para as subpastas correspondentes\n",
        "    for img in treinamento:\n",
        "        shutil.move(os.path.join(classe_path, img), os.path.join(treinamento_classe_path, img))\n",
        "\n",
        "    for img in teste:\n",
        "        shutil.move(os.path.join(classe_path, img), os.path.join(teste_classe_path, img))\n",
        "\n",
        "    print(f\"Divisão concluída para a classe '{classe}'!\")\n",
        "\n",
        "print(\"Reorganização concluída!\")"
      ],
      "metadata": {
        "colab": {
          "base_uri": "https://localhost:8080/"
        },
        "id": "YLsixjnviSpK",
        "outputId": "39c7f589-a287-4d24-9c17-d4ba31364421"
      },
      "execution_count": 35,
      "outputs": [
        {
          "output_type": "stream",
          "name": "stdout",
          "text": [
            "Aviso: Nenhuma imagem encontrada na pasta '.ipynb_checkpoints'. Pulando...\n",
            "Divisão concluída para a classe 'ovelha'!\n",
            "Divisão concluída para a classe 'vaca'!\n",
            "Divisão concluída para a classe 'cavalo'!\n",
            "Reorganização concluída!\n"
          ]
        }
      ]
    },
    {
      "cell_type": "code",
      "source": [
        "imagem_teste = image.load_img(f'{novo_ds}/teste/ovelha/OIP--euIcW3q8HxOobPq8wuwjgHaDf.jpeg', target_size=(150, 150))"
      ],
      "metadata": {
        "id": "kC4N_9Gtk6mY"
      },
      "execution_count": 37,
      "outputs": []
    },
    {
      "cell_type": "code",
      "source": [
        "imagem_teste"
      ],
      "metadata": {
        "colab": {
          "base_uri": "https://localhost:8080/",
          "height": 167
        },
        "id": "y2VIKCnlmR7a",
        "outputId": "aba841c9-97a4-43d4-a2a1-1bc68ff78f8b"
      },
      "execution_count": 38,
      "outputs": [
        {
          "output_type": "execute_result",
          "data": {
            "text/plain": [
              "<PIL.Image.Image image mode=RGB size=150x150>"
            ],
            "image/png": "[encoded data removed]",
            "image/jpeg": "[encoded data removed]"
          },
          "metadata": {},
          "execution_count": 38
        }
      ]
    },
    {
      "cell_type": "code",
      "source": [
        "from tensorflow.keras.preprocessing.image import ImageDataGenerator\n",
        "\n",
        "# Tamanho desejado (altura, largura)\n",
        "target_size = (150, 150)\n",
        "\n",
        "# Configurações do ImageDataGenerator com aumento de dados\n",
        "datagen = ImageDataGenerator(\n",
        "    rescale=1./255,          # Normalização\n",
        "    rotation_range=20,       # Rotação aleatória\n",
        "    width_shift_range=0.2,   # Deslocamento horizontal\n",
        "    height_shift_range=0.2,  # Deslocamento vertical\n",
        "    shear_range=0.2,         # Cisalhamento\n",
        "    zoom_range=0.2,          # Zoom aleatório\n",
        "    horizontal_flip=True,    # Espelhamento horizontal\n",
        "    validation_split=0.2     # Divisão treinamento/validação\n",
        ")\n",
        "\n",
        "# Gerador de treinamento\n",
        "base_treinamento = datagen.flow_from_directory(\n",
        "    f'{novo_ds}/treinamento',\n",
        "    target_size=target_size,\n",
        "    batch_size=32,\n",
        "    class_mode='categorical',\n",
        "    subset='training'\n",
        ")\n",
        "\n",
        "# Gerador de validação\n",
        "base_teste = datagen.flow_from_directory(\n",
        "    f'{novo_ds}/teste',\n",
        "    target_size=target_size,\n",
        "    batch_size=32,\n",
        "    class_mode='categorical',\n",
        "    subset='validation'\n",
        ")"
      ],
      "metadata": {
        "colab": {
          "base_uri": "https://localhost:8080/"
        },
        "id": "77fXDFwBnnuT",
        "outputId": "5cdb7ffd-042d-4ebb-bcfd-d27c273278a1"
      },
      "execution_count": 53,
      "outputs": [
        {
          "output_type": "stream",
          "name": "stdout",
          "text": [
            "Found 4038 images belonging to 3 classes.\n",
            "Found 251 images belonging to 3 classes.\n"
          ]
        }
      ]
    },
    {
      "cell_type": "markdown",
      "source": [
        "### estrutura da rede neural"
      ],
      "metadata": {
        "id": "K-jTc_3Uwsqo"
      }
    },
    {
      "cell_type": "code",
      "source": [
        "classificador = Sequential()\n",
        "\n",
        "# Camada de entrada\n",
        "classificador.add(InputLayer(shape=(150, 150, 3)))  # 150x150 pixels, 3 canais (RGB)\n",
        "\n",
        "# Primeira camada convolucional\n",
        "classificador.add(Conv2D(32, (3, 3), activation='relu'))  # 32 filtros, kernel 3x3\n",
        "classificador.add(BatchNormalization())  # Normalização do lote\n",
        "classificador.add(MaxPooling2D(pool_size=(2, 2)))  # Pooling 2x2\n",
        "\n",
        "# Segunda camada convolucional\n",
        "classificador.add(Conv2D(32, (3, 3), activation='relu'))\n",
        "classificador.add(BatchNormalization())\n",
        "classificador.add(MaxPooling2D(pool_size=(2, 2)))\n",
        "\n",
        "# Terceira camada convolucional (opcional, para aumentar a profundidade da rede)\n",
        "classificador.add(Conv2D(64, (3, 3), activation='relu'))\n",
        "classificador.add(BatchNormalization())\n",
        "classificador.add(MaxPooling2D(pool_size=(2, 2)))\n",
        "\n",
        "classificador.add(Flatten())\n",
        "\n",
        "classificador.add(Dense(units=128, activation='relu'))\n",
        "classificador.add(Dropout(0.2))  # Dropout para evitar overfitting\n",
        "\n",
        "classificador.add(Dense(units=128, activation='relu'))\n",
        "classificador.add(Dropout(0.2))\n",
        "\n",
        "# Camada de saída (3 classes: cavalo, vaca, ovelha)\n",
        "classificador.add(Dense(units=3, activation='softmax'))  # Softmax para classificação multiclasse"
      ],
      "metadata": {
        "id": "ASeJQINfvcsr"
      },
      "execution_count": 50,
      "outputs": []
    },
    {
      "cell_type": "code",
      "source": [
        "classificador.summary()"
      ],
      "metadata": {
        "colab": {
          "base_uri": "https://localhost:8080/",
          "height": 567
        },
        "id": "QZiBdOTVwNgR",
        "outputId": "1c5e3d80-76b7-489a-d96a-5897e1d26e2f"
      },
      "execution_count": 31,
      "outputs": [
        {
          "output_type": "display_data",
          "data": {
            "text/plain": [
              "\u001b[1mModel: \"sequential_2\"\u001b[0m\n"
            ],
            "text/html": [
              "<pre style=\"white-space:pre;overflow-x:auto;line-height:normal;font-family:Menlo,'DejaVu Sans Mono',consolas,'Courier New',monospace\"><span style=\"font-weight: bold\">Model: \"sequential_2\"</span>\n",
              "</pre>\n"
            ]
          },
          "metadata": {}
        },
        {
          "output_type": "display_data",
          "data": {
            "text/plain": [
              "┏━━━━━━━━━━━━━━━━━━━━━━━━━━━━━━━━━━━━━━┳━━━━━━━━━━━━━━━━━━━━━━━━━━━━━┳━━━━━━━━━━━━━━━━━┓\n",
              "┃\u001b[1m \u001b[0m\u001b[1mLayer (type)                        \u001b[0m\u001b[1m \u001b[0m┃\u001b[1m \u001b[0m\u001b[1mOutput Shape               \u001b[0m\u001b[1m \u001b[0m┃\u001b[1m \u001b[0m\u001b[1m        Param #\u001b[0m\u001b[1m \u001b[0m┃\n",
              "┡━━━━━━━━━━━━━━━━━━━━━━━━━━━━━━━━━━━━━━╇━━━━━━━━━━━━━━━━━━━━━━━━━━━━━╇━━━━━━━━━━━━━━━━━┩\n",
              "│ conv2d_4 (\u001b[38;5;33mConv2D\u001b[0m)                    │ (\u001b[38;5;45mNone\u001b[0m, \u001b[38;5;34m148\u001b[0m, \u001b[38;5;34m148\u001b[0m, \u001b[38;5;34m32\u001b[0m)        │             \u001b[38;5;34m896\u001b[0m │\n",
              "├──────────────────────────────────────┼─────────────────────────────┼─────────────────┤\n",
              "│ batch_normalization_4                │ (\u001b[38;5;45mNone\u001b[0m, \u001b[38;5;34m148\u001b[0m, \u001b[38;5;34m148\u001b[0m, \u001b[38;5;34m32\u001b[0m)        │             \u001b[38;5;34m128\u001b[0m │\n",
              "│ (\u001b[38;5;33mBatchNormalization\u001b[0m)                 │                             │                 │\n",
              "├──────────────────────────────────────┼─────────────────────────────┼─────────────────┤\n",
              "│ max_pooling2d_4 (\u001b[38;5;33mMaxPooling2D\u001b[0m)       │ (\u001b[38;5;45mNone\u001b[0m, \u001b[38;5;34m74\u001b[0m, \u001b[38;5;34m74\u001b[0m, \u001b[38;5;34m32\u001b[0m)          │               \u001b[38;5;34m0\u001b[0m │\n",
              "├──────────────────────────────────────┼─────────────────────────────┼─────────────────┤\n",
              "│ conv2d_5 (\u001b[38;5;33mConv2D\u001b[0m)                    │ (\u001b[38;5;45mNone\u001b[0m, \u001b[38;5;34m72\u001b[0m, \u001b[38;5;34m72\u001b[0m, \u001b[38;5;34m32\u001b[0m)          │           \u001b[38;5;34m9,248\u001b[0m │\n",
              "├──────────────────────────────────────┼─────────────────────────────┼─────────────────┤\n",
              "│ batch_normalization_5                │ (\u001b[38;5;45mNone\u001b[0m, \u001b[38;5;34m72\u001b[0m, \u001b[38;5;34m72\u001b[0m, \u001b[38;5;34m32\u001b[0m)          │             \u001b[38;5;34m128\u001b[0m │\n",
              "│ (\u001b[38;5;33mBatchNormalization\u001b[0m)                 │                             │                 │\n",
              "├──────────────────────────────────────┼─────────────────────────────┼─────────────────┤\n",
              "│ max_pooling2d_5 (\u001b[38;5;33mMaxPooling2D\u001b[0m)       │ (\u001b[38;5;45mNone\u001b[0m, \u001b[38;5;34m36\u001b[0m, \u001b[38;5;34m36\u001b[0m, \u001b[38;5;34m32\u001b[0m)          │               \u001b[38;5;34m0\u001b[0m │\n",
              "├──────────────────────────────────────┼─────────────────────────────┼─────────────────┤\n",
              "│ flatten_2 (\u001b[38;5;33mFlatten\u001b[0m)                  │ (\u001b[38;5;45mNone\u001b[0m, \u001b[38;5;34m41472\u001b[0m)               │               \u001b[38;5;34m0\u001b[0m │\n",
              "├──────────────────────────────────────┼─────────────────────────────┼─────────────────┤\n",
              "│ dense_6 (\u001b[38;5;33mDense\u001b[0m)                      │ (\u001b[38;5;45mNone\u001b[0m, \u001b[38;5;34m128\u001b[0m)                 │       \u001b[38;5;34m5,308,544\u001b[0m │\n",
              "├──────────────────────────────────────┼─────────────────────────────┼─────────────────┤\n",
              "│ dropout_4 (\u001b[38;5;33mDropout\u001b[0m)                  │ (\u001b[38;5;45mNone\u001b[0m, \u001b[38;5;34m128\u001b[0m)                 │               \u001b[38;5;34m0\u001b[0m │\n",
              "├──────────────────────────────────────┼─────────────────────────────┼─────────────────┤\n",
              "│ dense_7 (\u001b[38;5;33mDense\u001b[0m)                      │ (\u001b[38;5;45mNone\u001b[0m, \u001b[38;5;34m128\u001b[0m)                 │          \u001b[38;5;34m16,512\u001b[0m │\n",
              "├──────────────────────────────────────┼─────────────────────────────┼─────────────────┤\n",
              "│ dropout_5 (\u001b[38;5;33mDropout\u001b[0m)                  │ (\u001b[38;5;45mNone\u001b[0m, \u001b[38;5;34m128\u001b[0m)                 │               \u001b[38;5;34m0\u001b[0m │\n",
              "├──────────────────────────────────────┼─────────────────────────────┼─────────────────┤\n",
              "│ dense_8 (\u001b[38;5;33mDense\u001b[0m)                      │ (\u001b[38;5;45mNone\u001b[0m, \u001b[38;5;34m3\u001b[0m)                   │             \u001b[38;5;34m387\u001b[0m │\n",
              "└──────────────────────────────────────┴─────────────────────────────┴─────────────────┘\n"
            ],
            "text/html": [
              "<pre style=\"white-space:pre;overflow-x:auto;line-height:normal;font-family:Menlo,'DejaVu Sans Mono',consolas,'Courier New',monospace\">┏━━━━━━━━━━━━━━━━━━━━━━━━━━━━━━━━━━━━━━┳━━━━━━━━━━━━━━━━━━━━━━━━━━━━━┳━━━━━━━━━━━━━━━━━┓\n",
              "┃<span style=\"font-weight: bold\"> Layer (type)                         </span>┃<span style=\"font-weight: bold\"> Output Shape                </span>┃<span style=\"font-weight: bold\">         Param # </span>┃\n",
              "┡━━━━━━━━━━━━━━━━━━━━━━━━━━━━━━━━━━━━━━╇━━━━━━━━━━━━━━━━━━━━━━━━━━━━━╇━━━━━━━━━━━━━━━━━┩\n",
              "│ conv2d_4 (<span style=\"color: #0087ff; text-decoration-color: #0087ff\">Conv2D</span>)                    │ (<span style=\"color: #00d7ff; text-decoration-color: #00d7ff\">None</span>, <span style=\"color: #00af00; text-decoration-color: #00af00\">148</span>, <span style=\"color: #00af00; text-decoration-color: #00af00\">148</span>, <span style=\"color: #00af00; text-decoration-color: #00af00\">32</span>)        │             <span style=\"color: #00af00; text-decoration-color: #00af00\">896</span> │\n",
              "├──────────────────────────────────────┼─────────────────────────────┼─────────────────┤\n",
              "│ batch_normalization_4                │ (<span style=\"color: #00d7ff; text-decoration-color: #00d7ff\">None</span>, <span style=\"color: #00af00; text-decoration-color: #00af00\">148</span>, <span style=\"color: #00af00; text-decoration-color: #00af00\">148</span>, <span style=\"color: #00af00; text-decoration-color: #00af00\">32</span>)        │             <span style=\"color: #00af00; text-decoration-color: #00af00\">128</span> │\n",
              "│ (<span style=\"color: #0087ff; text-decoration-color: #0087ff\">BatchNormalization</span>)                 │                             │                 │\n",
              "├──────────────────────────────────────┼─────────────────────────────┼─────────────────┤\n",
              "│ max_pooling2d_4 (<span style=\"color: #0087ff; text-decoration-color: #0087ff\">MaxPooling2D</span>)       │ (<span style=\"color: #00d7ff; text-decoration-color: #00d7ff\">None</span>, <span style=\"color: #00af00; text-decoration-color: #00af00\">74</span>, <span style=\"color: #00af00; text-decoration-color: #00af00\">74</span>, <span style=\"color: #00af00; text-decoration-color: #00af00\">32</span>)          │               <span style=\"color: #00af00; text-decoration-color: #00af00\">0</span> │\n",
              "├──────────────────────────────────────┼─────────────────────────────┼─────────────────┤\n",
              "│ conv2d_5 (<span style=\"color: #0087ff; text-decoration-color: #0087ff\">Conv2D</span>)                    │ (<span style=\"color: #00d7ff; text-decoration-color: #00d7ff\">None</span>, <span style=\"color: #00af00; text-decoration-color: #00af00\">72</span>, <span style=\"color: #00af00; text-decoration-color: #00af00\">72</span>, <span style=\"color: #00af00; text-decoration-color: #00af00\">32</span>)          │           <span style=\"color: #00af00; text-decoration-color: #00af00\">9,248</span> │\n",
              "├──────────────────────────────────────┼─────────────────────────────┼─────────────────┤\n",
              "│ batch_normalization_5                │ (<span style=\"color: #00d7ff; text-decoration-color: #00d7ff\">None</span>, <span style=\"color: #00af00; text-decoration-color: #00af00\">72</span>, <span style=\"color: #00af00; text-decoration-color: #00af00\">72</span>, <span style=\"color: #00af00; text-decoration-color: #00af00\">32</span>)          │             <span style=\"color: #00af00; text-decoration-color: #00af00\">128</span> │\n",
              "│ (<span style=\"color: #0087ff; text-decoration-color: #0087ff\">BatchNormalization</span>)                 │                             │                 │\n",
              "├──────────────────────────────────────┼─────────────────────────────┼─────────────────┤\n",
              "│ max_pooling2d_5 (<span style=\"color: #0087ff; text-decoration-color: #0087ff\">MaxPooling2D</span>)       │ (<span style=\"color: #00d7ff; text-decoration-color: #00d7ff\">None</span>, <span style=\"color: #00af00; text-decoration-color: #00af00\">36</span>, <span style=\"color: #00af00; text-decoration-color: #00af00\">36</span>, <span style=\"color: #00af00; text-decoration-color: #00af00\">32</span>)          │               <span style=\"color: #00af00; text-decoration-color: #00af00\">0</span> │\n",
              "├──────────────────────────────────────┼─────────────────────────────┼─────────────────┤\n",
              "│ flatten_2 (<span style=\"color: #0087ff; text-decoration-color: #0087ff\">Flatten</span>)                  │ (<span style=\"color: #00d7ff; text-decoration-color: #00d7ff\">None</span>, <span style=\"color: #00af00; text-decoration-color: #00af00\">41472</span>)               │               <span style=\"color: #00af00; text-decoration-color: #00af00\">0</span> │\n",
              "├──────────────────────────────────────┼─────────────────────────────┼─────────────────┤\n",
              "│ dense_6 (<span style=\"color: #0087ff; text-decoration-color: #0087ff\">Dense</span>)                      │ (<span style=\"color: #00d7ff; text-decoration-color: #00d7ff\">None</span>, <span style=\"color: #00af00; text-decoration-color: #00af00\">128</span>)                 │       <span style=\"color: #00af00; text-decoration-color: #00af00\">5,308,544</span> │\n",
              "├──────────────────────────────────────┼─────────────────────────────┼─────────────────┤\n",
              "│ dropout_4 (<span style=\"color: #0087ff; text-decoration-color: #0087ff\">Dropout</span>)                  │ (<span style=\"color: #00d7ff; text-decoration-color: #00d7ff\">None</span>, <span style=\"color: #00af00; text-decoration-color: #00af00\">128</span>)                 │               <span style=\"color: #00af00; text-decoration-color: #00af00\">0</span> │\n",
              "├──────────────────────────────────────┼─────────────────────────────┼─────────────────┤\n",
              "│ dense_7 (<span style=\"color: #0087ff; text-decoration-color: #0087ff\">Dense</span>)                      │ (<span style=\"color: #00d7ff; text-decoration-color: #00d7ff\">None</span>, <span style=\"color: #00af00; text-decoration-color: #00af00\">128</span>)                 │          <span style=\"color: #00af00; text-decoration-color: #00af00\">16,512</span> │\n",
              "├──────────────────────────────────────┼─────────────────────────────┼─────────────────┤\n",
              "│ dropout_5 (<span style=\"color: #0087ff; text-decoration-color: #0087ff\">Dropout</span>)                  │ (<span style=\"color: #00d7ff; text-decoration-color: #00d7ff\">None</span>, <span style=\"color: #00af00; text-decoration-color: #00af00\">128</span>)                 │               <span style=\"color: #00af00; text-decoration-color: #00af00\">0</span> │\n",
              "├──────────────────────────────────────┼─────────────────────────────┼─────────────────┤\n",
              "│ dense_8 (<span style=\"color: #0087ff; text-decoration-color: #0087ff\">Dense</span>)                      │ (<span style=\"color: #00d7ff; text-decoration-color: #00d7ff\">None</span>, <span style=\"color: #00af00; text-decoration-color: #00af00\">3</span>)                   │             <span style=\"color: #00af00; text-decoration-color: #00af00\">387</span> │\n",
              "└──────────────────────────────────────┴─────────────────────────────┴─────────────────┘\n",
              "</pre>\n"
            ]
          },
          "metadata": {}
        },
        {
          "output_type": "display_data",
          "data": {
            "text/plain": [
              "\u001b[1m Total params: \u001b[0m\u001b[38;5;34m5,335,843\u001b[0m (20.35 MB)\n"
            ],
            "text/html": [
              "<pre style=\"white-space:pre;overflow-x:auto;line-height:normal;font-family:Menlo,'DejaVu Sans Mono',consolas,'Courier New',monospace\"><span style=\"font-weight: bold\"> Total params: </span><span style=\"color: #00af00; text-decoration-color: #00af00\">5,335,843</span> (20.35 MB)\n",
              "</pre>\n"
            ]
          },
          "metadata": {}
        },
        {
          "output_type": "display_data",
          "data": {
            "text/plain": [
              "\u001b[1m Trainable params: \u001b[0m\u001b[38;5;34m5,335,715\u001b[0m (20.35 MB)\n"
            ],
            "text/html": [
              "<pre style=\"white-space:pre;overflow-x:auto;line-height:normal;font-family:Menlo,'DejaVu Sans Mono',consolas,'Courier New',monospace\"><span style=\"font-weight: bold\"> Trainable params: </span><span style=\"color: #00af00; text-decoration-color: #00af00\">5,335,715</span> (20.35 MB)\n",
              "</pre>\n"
            ]
          },
          "metadata": {}
        },
        {
          "output_type": "display_data",
          "data": {
            "text/plain": [
              "\u001b[1m Non-trainable params: \u001b[0m\u001b[38;5;34m128\u001b[0m (512.00 B)\n"
            ],
            "text/html": [
              "<pre style=\"white-space:pre;overflow-x:auto;line-height:normal;font-family:Menlo,'DejaVu Sans Mono',consolas,'Courier New',monospace\"><span style=\"font-weight: bold\"> Non-trainable params: </span><span style=\"color: #00af00; text-decoration-color: #00af00\">128</span> (512.00 B)\n",
              "</pre>\n"
            ]
          },
          "metadata": {}
        }
      ]
    },
    {
      "cell_type": "code",
      "source": [
        "classificador.compile(\n",
        "    optimizer='adam',  # Otimizador Adam\n",
        "    loss='categorical_crossentropy',  # Função de perda para multiclasse\n",
        "    metrics=['accuracy']  # Métrica de avaliação\n",
        ")"
      ],
      "metadata": {
        "id": "PdMeIUNqwYgS"
      },
      "execution_count": 51,
      "outputs": []
    },
    {
      "cell_type": "code",
      "source": [
        "classificador.fit(base_treinamento,\n",
        "                epochs=10,\n",
        "                validation_data=base_teste,\n",
        "                )"
      ],
      "metadata": {
        "colab": {
          "base_uri": "https://localhost:8080/"
        },
        "id": "HEtBveP9puTu",
        "outputId": "98b741f5-3782-4faa-b477-73135ed3b625"
      },
      "execution_count": 52,
      "outputs": [
        {
          "output_type": "stream",
          "name": "stdout",
          "text": [
            "Epoch 1/10\n",
            "\u001b[1m127/127\u001b[0m \u001b[32m━━━━━━━━━━━━━━━━━━━━\u001b[0m\u001b[37m\u001b[0m \u001b[1m239s\u001b[0m 2s/step - accuracy: 0.4087 - loss: 1.8193 - val_accuracy: 0.4303 - val_loss: 1.3746\n",
            "Epoch 2/10\n",
            "\u001b[1m127/127\u001b[0m \u001b[32m━━━━━━━━━━━━━━━━━━━━\u001b[0m\u001b[37m\u001b[0m \u001b[1m239s\u001b[0m 2s/step - accuracy: 0.4635 - loss: 1.0578 - val_accuracy: 0.4343 - val_loss: 1.1151\n",
            "Epoch 3/10\n",
            "\u001b[1m127/127\u001b[0m \u001b[32m━━━━━━━━━━━━━━━━━━━━\u001b[0m\u001b[37m\u001b[0m \u001b[1m233s\u001b[0m 2s/step - accuracy: 0.4738 - loss: 1.0069 - val_accuracy: 0.4422 - val_loss: 1.1209\n",
            "Epoch 4/10\n",
            "\u001b[1m127/127\u001b[0m \u001b[32m━━━━━━━━━━━━━━━━━━━━\u001b[0m\u001b[37m\u001b[0m \u001b[1m230s\u001b[0m 2s/step - accuracy: 0.5094 - loss: 1.0173 - val_accuracy: 0.4422 - val_loss: 1.4207\n",
            "Epoch 5/10\n",
            "\u001b[1m127/127\u001b[0m \u001b[32m━━━━━━━━━━━━━━━━━━━━\u001b[0m\u001b[37m\u001b[0m \u001b[1m239s\u001b[0m 2s/step - accuracy: 0.5280 - loss: 0.9676 - val_accuracy: 0.5817 - val_loss: 0.9481\n",
            "Epoch 6/10\n",
            "\u001b[1m127/127\u001b[0m \u001b[32m━━━━━━━━━━━━━━━━━━━━\u001b[0m\u001b[37m\u001b[0m \u001b[1m231s\u001b[0m 2s/step - accuracy: 0.5694 - loss: 0.9328 - val_accuracy: 0.4661 - val_loss: 1.1832\n",
            "Epoch 7/10\n",
            "\u001b[1m127/127\u001b[0m \u001b[32m━━━━━━━━━━━━━━━━━━━━\u001b[0m\u001b[37m\u001b[0m \u001b[1m239s\u001b[0m 2s/step - accuracy: 0.5422 - loss: 0.9488 - val_accuracy: 0.4382 - val_loss: 1.2818\n",
            "Epoch 8/10\n",
            "\u001b[1m127/127\u001b[0m \u001b[32m━━━━━━━━━━━━━━━━━━━━\u001b[0m\u001b[37m\u001b[0m \u001b[1m229s\u001b[0m 2s/step - accuracy: 0.5844 - loss: 0.9315 - val_accuracy: 0.4542 - val_loss: 1.6563\n",
            "Epoch 9/10\n",
            "\u001b[1m127/127\u001b[0m \u001b[32m━━━━━━━━━━━━━━━━━━━━\u001b[0m\u001b[37m\u001b[0m \u001b[1m231s\u001b[0m 2s/step - accuracy: 0.5601 - loss: 0.9595 - val_accuracy: 0.5378 - val_loss: 0.9818\n",
            "Epoch 10/10\n",
            "\u001b[1m127/127\u001b[0m \u001b[32m━━━━━━━━━━━━━━━━━━━━\u001b[0m\u001b[37m\u001b[0m \u001b[1m237s\u001b[0m 2s/step - accuracy: 0.5779 - loss: 0.8957 - val_accuracy: 0.6335 - val_loss: 0.8880\n"
          ]
        },
        {
          "output_type": "execute_result",
          "data": {
            "text/plain": [
              "<keras.src.callbacks.history.History at 0x7bfe86b4bcd0>"
            ]
          },
          "metadata": {},
          "execution_count": 52
        }
      ]
    },
    {
      "cell_type": "markdown",
      "source": [
        "### Novo Classificador"
      ],
      "metadata": {
        "id": "uQHIZyGx4p0b"
      }
    },
    {
      "cell_type": "code",
      "source": [
        "from tensorflow.keras.preprocessing.image import ImageDataGenerator\n",
        "\n",
        "# Tamanho desejado (altura, largura)\n",
        "target_size = (64, 64)\n",
        "\n",
        "# Configurações do ImageDataGenerator com aumento de dados\n",
        "datagen = ImageDataGenerator(\n",
        "    rescale=1./255,          # Normalização\n",
        "    rotation_range=20,       # Rotação aleatória\n",
        "    width_shift_range=0.2,   # Deslocamento horizontal\n",
        "    height_shift_range=0.2,  # Deslocamento vertical\n",
        "    shear_range=0.2,         # Cisalhamento\n",
        "    zoom_range=0.2,          # Zoom aleatório\n",
        "    horizontal_flip=True,    # Espelhamento horizontal\n",
        "    validation_split=0.2     # Divisão treinamento/validação\n",
        ")\n",
        "\n",
        "# Gerador de treinamento\n",
        "base_treinamento = datagen.flow_from_directory(\n",
        "    f'{novo_ds}/treinamento',\n",
        "    target_size=target_size,\n",
        "    batch_size=32,\n",
        "    class_mode='categorical',\n",
        "    subset='training'\n",
        ")\n",
        "\n",
        "# Gerador de validação\n",
        "base_teste = datagen.flow_from_directory(\n",
        "    f'{novo_ds}/teste',\n",
        "    target_size=target_size,\n",
        "    batch_size=32,\n",
        "    class_mode='categorical',\n",
        "    subset='validation'\n",
        ")"
      ],
      "metadata": {
        "colab": {
          "base_uri": "https://localhost:8080/"
        },
        "outputId": "eacbe562-6b5b-4cf6-a3ac-d1c7b7179fa7",
        "id": "ErJnVsYq4uOt"
      },
      "execution_count": 54,
      "outputs": [
        {
          "output_type": "stream",
          "name": "stdout",
          "text": [
            "Found 4038 images belonging to 3 classes.\n",
            "Found 251 images belonging to 3 classes.\n"
          ]
        }
      ]
    },
    {
      "cell_type": "code",
      "source": [
        "classificador2 = Sequential()\n",
        "\n",
        "# Camada de entrada\n",
        "classificador2.add(InputLayer(shape=(64, 64, 3)))  # 150x150 pixels, 3 canais (RGB)\n",
        "\n",
        "# Primeira camada convolucional\n",
        "classificador2.add(Conv2D(32, (3, 3), activation='relu'))  # 32 filtros, kernel 3x3\n",
        "classificador2.add(BatchNormalization())  # Normalização do lote\n",
        "classificador2.add(MaxPooling2D(pool_size=(2, 2)))  # Pooling 2x2\n",
        "\n",
        "# Segunda camada convolucional\n",
        "classificador2.add(Conv2D(32, (3, 3), activation='relu'))\n",
        "classificador2.add(BatchNormalization())\n",
        "classificador2.add(MaxPooling2D(pool_size=(2, 2)))\n",
        "\n",
        "# Terceira camada convolucional (opcional, para aumentar a profundidade da rede)\n",
        "classificador2.add(Conv2D(64, (3, 3), activation='relu'))\n",
        "classificador2.add(BatchNormalization())\n",
        "classificador2.add(MaxPooling2D(pool_size=(2, 2)))\n",
        "\n",
        "classificador2.add(Flatten())\n",
        "\n",
        "classificador2.add(Dense(units=128, activation='relu'))\n",
        "classificador2.add(Dropout(0.2))  # Dropout para evitar overfitting\n",
        "\n",
        "classificador2.add(Dense(units=128, activation='relu'))\n",
        "classificador2.add(Dropout(0.2))\n",
        "\n",
        "# Camada de saída (3 classes: cavalo, vaca, ovelha)\n",
        "classificador2.add(Dense(units=3, activation='softmax'))  # Softmax para classificação multiclasse"
      ],
      "metadata": {
        "id": "u9olfCpn4uOu"
      },
      "execution_count": 55,
      "outputs": []
    },
    {
      "cell_type": "code",
      "source": [
        "classificador2.compile(\n",
        "    optimizer='adam',  # Otimizador Adam\n",
        "    loss='categorical_crossentropy',  # Função de perda para multiclasse\n",
        "    metrics=['accuracy']  # Métrica de avaliação\n",
        ")"
      ],
      "metadata": {
        "id": "MiHK9YNl5OvS"
      },
      "execution_count": 56,
      "outputs": []
    },
    {
      "cell_type": "code",
      "source": [
        "classificador2.fit(base_treinamento,\n",
        "                epochs=100,\n",
        "                validation_data=base_teste,\n",
        "                )"
      ],
      "metadata": {
        "colab": {
          "base_uri": "https://localhost:8080/"
        },
        "outputId": "37095619-e9d9-4156-c2d1-2546d248f832",
        "id": "qOLXbVLH5OvU"
      },
      "execution_count": 58,
      "outputs": [
        {
          "output_type": "stream",
          "name": "stdout",
          "text": [
            "Epoch 1/100\n",
            "\u001b[1m127/127\u001b[0m \u001b[32m━━━━━━━━━━━━━━━━━━━━\u001b[0m\u001b[37m\u001b[0m \u001b[1m0s\u001b[0m 278ms/step - accuracy: 0.4141 - loss: 1.2881"
          ]
        },
        {
          "output_type": "stream",
          "name": "stderr",
          "text": [
            "/usr/local/lib/python3.11/dist-packages/keras/src/trainers/data_adapters/py_dataset_adapter.py:121: UserWarning: Your `PyDataset` class should call `super().__init__(**kwargs)` in its constructor. `**kwargs` can include `workers`, `use_multiprocessing`, `max_queue_size`. Do not pass these arguments to `fit()`, as they will be ignored.\n",
            "  self._warn_if_super_not_called()\n"
          ]
        },
        {
          "output_type": "stream",
          "name": "stdout",
          "text": [
            "\b\b\b\b\b\b\b\b\b\b\b\b\b\b\b\b\b\b\b\b\b\b\b\b\b\b\b\b\b\b\b\b\b\b\b\b\b\b\b\b\b\b\b\b\b\b\b\b\b\b\b\b\b\b\b\b\b\b\b\b\b\b\b\b\b\b\b\b\b\b\b\b\b\b\b\b\r\u001b[1m127/127\u001b[0m \u001b[32m━━━━━━━━━━━━━━━━━━━━\u001b[0m\u001b[37m\u001b[0m \u001b[1m40s\u001b[0m 289ms/step - accuracy: 0.4144 - loss: 1.2868 - val_accuracy: 0.2908 - val_loss: 1.7427\n",
            "Epoch 2/100\n",
            "\u001b[1m127/127\u001b[0m \u001b[32m━━━━━━━━━━━━━━━━━━━━\u001b[0m\u001b[37m\u001b[0m \u001b[1m40s\u001b[0m 282ms/step - accuracy: 0.4898 - loss: 1.0220 - val_accuracy: 0.3267 - val_loss: 2.0583\n",
            "Epoch 3/100\n",
            "\u001b[1m127/127\u001b[0m \u001b[32m━━━━━━━━━━━━━━━━━━━━\u001b[0m\u001b[37m\u001b[0m \u001b[1m36s\u001b[0m 284ms/step - accuracy: 0.5400 - loss: 0.9680 - val_accuracy: 0.2869 - val_loss: 2.4259\n",
            "Epoch 4/100\n",
            "\u001b[1m127/127\u001b[0m \u001b[32m━━━━━━━━━━━━━━━━━━━━\u001b[0m\u001b[37m\u001b[0m \u001b[1m38s\u001b[0m 301ms/step - accuracy: 0.5451 - loss: 0.9388 - val_accuracy: 0.4582 - val_loss: 1.2685\n",
            "Epoch 5/100\n",
            "\u001b[1m127/127\u001b[0m \u001b[32m━━━━━━━━━━━━━━━━━━━━\u001b[0m\u001b[37m\u001b[0m \u001b[1m36s\u001b[0m 284ms/step - accuracy: 0.5598 - loss: 0.9151 - val_accuracy: 0.5458 - val_loss: 0.9422\n",
            "Epoch 6/100\n",
            "\u001b[1m127/127\u001b[0m \u001b[32m━━━━━━━━━━━━━━━━━━━━\u001b[0m\u001b[37m\u001b[0m \u001b[1m36s\u001b[0m 281ms/step - accuracy: 0.5810 - loss: 0.8867 - val_accuracy: 0.4900 - val_loss: 1.2429\n",
            "Epoch 7/100\n",
            "\u001b[1m127/127\u001b[0m \u001b[32m━━━━━━━━━━━━━━━━━━━━\u001b[0m\u001b[37m\u001b[0m \u001b[1m35s\u001b[0m 278ms/step - accuracy: 0.5954 - loss: 0.8802 - val_accuracy: 0.4940 - val_loss: 1.1523\n",
            "Epoch 8/100\n",
            "\u001b[1m127/127\u001b[0m \u001b[32m━━━━━━━━━━━━━━━━━━━━\u001b[0m\u001b[37m\u001b[0m \u001b[1m40s\u001b[0m 274ms/step - accuracy: 0.6042 - loss: 0.8405 - val_accuracy: 0.5737 - val_loss: 0.9211\n",
            "Epoch 9/100\n",
            "\u001b[1m127/127\u001b[0m \u001b[32m━━━━━━━━━━━━━━━━━━━━\u001b[0m\u001b[37m\u001b[0m \u001b[1m34s\u001b[0m 265ms/step - accuracy: 0.6135 - loss: 0.8226 - val_accuracy: 0.5737 - val_loss: 0.9083\n",
            "Epoch 10/100\n",
            "\u001b[1m127/127\u001b[0m \u001b[32m━━━━━━━━━━━━━━━━━━━━\u001b[0m\u001b[37m\u001b[0m \u001b[1m36s\u001b[0m 279ms/step - accuracy: 0.6344 - loss: 0.7947 - val_accuracy: 0.6056 - val_loss: 0.8615\n",
            "Epoch 11/100\n",
            "\u001b[1m127/127\u001b[0m \u001b[32m━━━━━━━━━━━━━━━━━━━━\u001b[0m\u001b[37m\u001b[0m \u001b[1m36s\u001b[0m 284ms/step - accuracy: 0.6593 - loss: 0.7566 - val_accuracy: 0.6016 - val_loss: 0.8702\n",
            "Epoch 12/100\n",
            "\u001b[1m127/127\u001b[0m \u001b[32m━━━━━━━━━━━━━━━━━━━━\u001b[0m\u001b[37m\u001b[0m \u001b[1m41s\u001b[0m 284ms/step - accuracy: 0.6458 - loss: 0.7851 - val_accuracy: 0.5378 - val_loss: 1.0888\n",
            "Epoch 13/100\n",
            "\u001b[1m127/127\u001b[0m \u001b[32m━━━━━━━━━━━━━━━━━━━━\u001b[0m\u001b[37m\u001b[0m \u001b[1m34s\u001b[0m 271ms/step - accuracy: 0.6755 - loss: 0.7545 - val_accuracy: 0.5339 - val_loss: 1.0155\n",
            "Epoch 14/100\n",
            "\u001b[1m127/127\u001b[0m \u001b[32m━━━━━━━━━━━━━━━━━━━━\u001b[0m\u001b[37m\u001b[0m \u001b[1m36s\u001b[0m 281ms/step - accuracy: 0.6630 - loss: 0.7668 - val_accuracy: 0.6175 - val_loss: 0.8856\n",
            "Epoch 15/100\n",
            "\u001b[1m127/127\u001b[0m \u001b[32m━━━━━━━━━━━━━━━━━━━━\u001b[0m\u001b[37m\u001b[0m \u001b[1m35s\u001b[0m 279ms/step - accuracy: 0.6718 - loss: 0.7395 - val_accuracy: 0.6892 - val_loss: 0.7652\n",
            "Epoch 16/100\n",
            "\u001b[1m127/127\u001b[0m \u001b[32m━━━━━━━━━━━━━━━━━━━━\u001b[0m\u001b[37m\u001b[0m \u001b[1m41s\u001b[0m 277ms/step - accuracy: 0.6742 - loss: 0.7290 - val_accuracy: 0.5538 - val_loss: 0.9443\n",
            "Epoch 17/100\n",
            "\u001b[1m127/127\u001b[0m \u001b[32m━━━━━━━━━━━━━━━━━━━━\u001b[0m\u001b[37m\u001b[0m \u001b[1m41s\u001b[0m 278ms/step - accuracy: 0.6759 - loss: 0.7303 - val_accuracy: 0.5936 - val_loss: 0.8756\n",
            "Epoch 18/100\n",
            "\u001b[1m127/127\u001b[0m \u001b[32m━━━━━━━━━━━━━━━━━━━━\u001b[0m\u001b[37m\u001b[0m \u001b[1m36s\u001b[0m 283ms/step - accuracy: 0.6851 - loss: 0.7180 - val_accuracy: 0.6215 - val_loss: 0.8263\n",
            "Epoch 19/100\n",
            "\u001b[1m127/127\u001b[0m \u001b[32m━━━━━━━━━━━━━━━━━━━━\u001b[0m\u001b[37m\u001b[0m \u001b[1m34s\u001b[0m 265ms/step - accuracy: 0.6969 - loss: 0.6786 - val_accuracy: 0.6096 - val_loss: 0.8575\n",
            "Epoch 20/100\n",
            "\u001b[1m127/127\u001b[0m \u001b[32m━━━━━━━━━━━━━━━━━━━━\u001b[0m\u001b[37m\u001b[0m \u001b[1m36s\u001b[0m 281ms/step - accuracy: 0.6759 - loss: 0.7116 - val_accuracy: 0.4622 - val_loss: 1.5602\n",
            "Epoch 21/100\n",
            "\u001b[1m127/127\u001b[0m \u001b[32m━━━━━━━━━━━━━━━━━━━━\u001b[0m\u001b[37m\u001b[0m \u001b[1m41s\u001b[0m 282ms/step - accuracy: 0.6997 - loss: 0.7043 - val_accuracy: 0.6494 - val_loss: 0.7672\n",
            "Epoch 22/100\n",
            "\u001b[1m127/127\u001b[0m \u001b[32m━━━━━━━━━━━━━━━━━━━━\u001b[0m\u001b[37m\u001b[0m \u001b[1m36s\u001b[0m 282ms/step - accuracy: 0.7239 - loss: 0.6482 - val_accuracy: 0.6255 - val_loss: 0.8192\n",
            "Epoch 23/100\n",
            "\u001b[1m127/127\u001b[0m \u001b[32m━━━━━━━━━━━━━━━━━━━━\u001b[0m\u001b[37m\u001b[0m \u001b[1m37s\u001b[0m 294ms/step - accuracy: 0.7045 - loss: 0.6707 - val_accuracy: 0.4861 - val_loss: 1.4418\n",
            "Epoch 24/100\n",
            "\u001b[1m127/127\u001b[0m \u001b[32m━━━━━━━━━━━━━━━━━━━━\u001b[0m\u001b[37m\u001b[0m \u001b[1m35s\u001b[0m 275ms/step - accuracy: 0.7036 - loss: 0.6960 - val_accuracy: 0.6853 - val_loss: 0.7426\n",
            "Epoch 25/100\n",
            "\u001b[1m127/127\u001b[0m \u001b[32m━━━━━━━━━━━━━━━━━━━━\u001b[0m\u001b[37m\u001b[0m \u001b[1m37s\u001b[0m 294ms/step - accuracy: 0.7155 - loss: 0.6608 - val_accuracy: 0.6375 - val_loss: 0.7720\n",
            "Epoch 26/100\n",
            "\u001b[1m127/127\u001b[0m \u001b[32m━━━━━━━━━━━━━━━━━━━━\u001b[0m\u001b[37m\u001b[0m \u001b[1m36s\u001b[0m 281ms/step - accuracy: 0.7245 - loss: 0.6426 - val_accuracy: 0.6255 - val_loss: 0.7949\n",
            "Epoch 27/100\n",
            "\u001b[1m127/127\u001b[0m \u001b[32m━━━━━━━━━━━━━━━━━━━━\u001b[0m\u001b[37m\u001b[0m \u001b[1m37s\u001b[0m 290ms/step - accuracy: 0.7234 - loss: 0.6381 - val_accuracy: 0.5020 - val_loss: 1.4380\n",
            "Epoch 28/100\n",
            "\u001b[1m127/127\u001b[0m \u001b[32m━━━━━━━━━━━━━━━━━━━━\u001b[0m\u001b[37m\u001b[0m \u001b[1m35s\u001b[0m 274ms/step - accuracy: 0.7313 - loss: 0.6368 - val_accuracy: 0.7490 - val_loss: 0.6478\n",
            "Epoch 29/100\n",
            "\u001b[1m127/127\u001b[0m \u001b[32m━━━━━━━━━━━━━━━━━━━━\u001b[0m\u001b[37m\u001b[0m \u001b[1m36s\u001b[0m 279ms/step - accuracy: 0.7241 - loss: 0.6441 - val_accuracy: 0.6972 - val_loss: 0.7803\n",
            "Epoch 30/100\n",
            "\u001b[1m127/127\u001b[0m \u001b[32m━━━━━━━━━━━━━━━━━━━━\u001b[0m\u001b[37m\u001b[0m \u001b[1m36s\u001b[0m 281ms/step - accuracy: 0.7385 - loss: 0.6178 - val_accuracy: 0.5179 - val_loss: 1.3694\n",
            "Epoch 31/100\n",
            "\u001b[1m127/127\u001b[0m \u001b[32m━━━━━━━━━━━━━━━━━━━━\u001b[0m\u001b[37m\u001b[0m \u001b[1m37s\u001b[0m 288ms/step - accuracy: 0.7505 - loss: 0.6027 - val_accuracy: 0.6375 - val_loss: 0.8587\n",
            "Epoch 32/100\n",
            "\u001b[1m127/127\u001b[0m \u001b[32m━━━━━━━━━━━━━━━━━━━━\u001b[0m\u001b[37m\u001b[0m \u001b[1m34s\u001b[0m 270ms/step - accuracy: 0.7433 - loss: 0.6220 - val_accuracy: 0.6454 - val_loss: 0.8186\n",
            "Epoch 33/100\n",
            "\u001b[1m127/127\u001b[0m \u001b[32m━━━━━━━━━━━━━━━━━━━━\u001b[0m\u001b[37m\u001b[0m \u001b[1m35s\u001b[0m 277ms/step - accuracy: 0.7544 - loss: 0.5821 - val_accuracy: 0.6494 - val_loss: 0.8333\n",
            "Epoch 34/100\n",
            "\u001b[1m127/127\u001b[0m \u001b[32m━━━━━━━━━━━━━━━━━━━━\u001b[0m\u001b[37m\u001b[0m \u001b[1m36s\u001b[0m 284ms/step - accuracy: 0.7429 - loss: 0.5788 - val_accuracy: 0.6853 - val_loss: 0.6928\n",
            "Epoch 35/100\n",
            "\u001b[1m127/127\u001b[0m \u001b[32m━━━━━━━━━━━━━━━━━━━━\u001b[0m\u001b[37m\u001b[0m \u001b[1m41s\u001b[0m 284ms/step - accuracy: 0.7424 - loss: 0.6098 - val_accuracy: 0.6016 - val_loss: 0.9941\n",
            "Epoch 36/100\n",
            "\u001b[1m127/127\u001b[0m \u001b[32m━━━━━━━━━━━━━━━━━━━━\u001b[0m\u001b[37m\u001b[0m \u001b[1m35s\u001b[0m 273ms/step - accuracy: 0.7589 - loss: 0.5787 - val_accuracy: 0.6693 - val_loss: 0.7954\n",
            "Epoch 37/100\n",
            "\u001b[1m127/127\u001b[0m \u001b[32m━━━━━━━━━━━━━━━━━━━━\u001b[0m\u001b[37m\u001b[0m \u001b[1m35s\u001b[0m 276ms/step - accuracy: 0.7591 - loss: 0.5774 - val_accuracy: 0.6414 - val_loss: 0.7235\n",
            "Epoch 38/100\n",
            "\u001b[1m127/127\u001b[0m \u001b[32m━━━━━━━━━━━━━━━━━━━━\u001b[0m\u001b[37m\u001b[0m \u001b[1m36s\u001b[0m 279ms/step - accuracy: 0.7724 - loss: 0.5664 - val_accuracy: 0.5339 - val_loss: 0.9103\n",
            "Epoch 39/100\n",
            "\u001b[1m127/127\u001b[0m \u001b[32m━━━━━━━━━━━━━━━━━━━━\u001b[0m\u001b[37m\u001b[0m \u001b[1m36s\u001b[0m 284ms/step - accuracy: 0.7677 - loss: 0.5723 - val_accuracy: 0.7410 - val_loss: 0.6114\n",
            "Epoch 40/100\n",
            "\u001b[1m127/127\u001b[0m \u001b[32m━━━━━━━━━━━━━━━━━━━━\u001b[0m\u001b[37m\u001b[0m \u001b[1m34s\u001b[0m 269ms/step - accuracy: 0.7709 - loss: 0.5701 - val_accuracy: 0.7012 - val_loss: 0.7034\n",
            "Epoch 41/100\n",
            "\u001b[1m127/127\u001b[0m \u001b[32m━━━━━━━━━━━━━━━━━━━━\u001b[0m\u001b[37m\u001b[0m \u001b[1m36s\u001b[0m 283ms/step - accuracy: 0.7825 - loss: 0.5313 - val_accuracy: 0.5737 - val_loss: 1.0025\n",
            "Epoch 42/100\n",
            "\u001b[1m127/127\u001b[0m \u001b[32m━━━━━━━━━━━━━━━━━━━━\u001b[0m\u001b[37m\u001b[0m \u001b[1m36s\u001b[0m 281ms/step - accuracy: 0.7685 - loss: 0.5699 - val_accuracy: 0.7131 - val_loss: 0.6867\n",
            "Epoch 43/100\n",
            "\u001b[1m127/127\u001b[0m \u001b[32m━━━━━━━━━━━━━━━━━━━━\u001b[0m\u001b[37m\u001b[0m \u001b[1m35s\u001b[0m 278ms/step - accuracy: 0.7903 - loss: 0.5382 - val_accuracy: 0.6335 - val_loss: 0.9258\n",
            "Epoch 44/100\n",
            "\u001b[1m127/127\u001b[0m \u001b[32m━━━━━━━━━━━━━━━━━━━━\u001b[0m\u001b[37m\u001b[0m \u001b[1m36s\u001b[0m 279ms/step - accuracy: 0.7562 - loss: 0.5665 - val_accuracy: 0.6335 - val_loss: 0.8390\n",
            "Epoch 45/100\n",
            "\u001b[1m127/127\u001b[0m \u001b[32m━━━━━━━━━━━━━━━━━━━━\u001b[0m\u001b[37m\u001b[0m \u001b[1m35s\u001b[0m 279ms/step - accuracy: 0.7699 - loss: 0.5505 - val_accuracy: 0.6056 - val_loss: 1.1766\n",
            "Epoch 46/100\n",
            "\u001b[1m127/127\u001b[0m \u001b[32m━━━━━━━━━━━━━━━━━━━━\u001b[0m\u001b[37m\u001b[0m \u001b[1m34s\u001b[0m 271ms/step - accuracy: 0.7716 - loss: 0.5413 - val_accuracy: 0.7371 - val_loss: 0.7211\n",
            "Epoch 47/100\n",
            "\u001b[1m127/127\u001b[0m \u001b[32m━━━━━━━━━━━━━━━━━━━━\u001b[0m\u001b[37m\u001b[0m \u001b[1m36s\u001b[0m 281ms/step - accuracy: 0.7860 - loss: 0.5131 - val_accuracy: 0.5857 - val_loss: 0.9997\n",
            "Epoch 48/100\n",
            "\u001b[1m127/127\u001b[0m \u001b[32m━━━━━━━━━━━━━━━━━━━━\u001b[0m\u001b[37m\u001b[0m \u001b[1m36s\u001b[0m 280ms/step - accuracy: 0.7607 - loss: 0.5716 - val_accuracy: 0.6653 - val_loss: 0.8932\n",
            "Epoch 49/100\n",
            "\u001b[1m127/127\u001b[0m \u001b[32m━━━━━━━━━━━━━━━━━━━━\u001b[0m\u001b[37m\u001b[0m \u001b[1m35s\u001b[0m 273ms/step - accuracy: 0.7984 - loss: 0.4971 - val_accuracy: 0.7211 - val_loss: 0.6402\n",
            "Epoch 50/100\n",
            "\u001b[1m127/127\u001b[0m \u001b[32m━━━━━━━━━━━━━━━━━━━━\u001b[0m\u001b[37m\u001b[0m \u001b[1m37s\u001b[0m 288ms/step - accuracy: 0.7908 - loss: 0.5214 - val_accuracy: 0.7012 - val_loss: 0.7509\n",
            "Epoch 51/100\n",
            "\u001b[1m127/127\u001b[0m \u001b[32m━━━━━━━━━━━━━━━━━━━━\u001b[0m\u001b[37m\u001b[0m \u001b[1m39s\u001b[0m 276ms/step - accuracy: 0.7801 - loss: 0.5405 - val_accuracy: 0.7331 - val_loss: 0.6350\n",
            "Epoch 52/100\n",
            "\u001b[1m127/127\u001b[0m \u001b[32m━━━━━━━━━━━━━━━━━━━━\u001b[0m\u001b[37m\u001b[0m \u001b[1m40s\u001b[0m 267ms/step - accuracy: 0.7904 - loss: 0.5123 - val_accuracy: 0.7410 - val_loss: 0.5865\n",
            "Epoch 53/100\n",
            "\u001b[1m127/127\u001b[0m \u001b[32m━━━━━━━━━━━━━━━━━━━━\u001b[0m\u001b[37m\u001b[0m \u001b[1m36s\u001b[0m 280ms/step - accuracy: 0.7750 - loss: 0.5278 - val_accuracy: 0.7251 - val_loss: 0.6780\n",
            "Epoch 54/100\n",
            "\u001b[1m127/127\u001b[0m \u001b[32m━━━━━━━━━━━━━━━━━━━━\u001b[0m\u001b[37m\u001b[0m \u001b[1m35s\u001b[0m 278ms/step - accuracy: 0.7898 - loss: 0.5274 - val_accuracy: 0.6733 - val_loss: 0.6915\n",
            "Epoch 55/100\n",
            "\u001b[1m127/127\u001b[0m \u001b[32m━━━━━━━━━━━━━━━━━━━━\u001b[0m\u001b[37m\u001b[0m \u001b[1m35s\u001b[0m 275ms/step - accuracy: 0.7754 - loss: 0.5389 - val_accuracy: 0.6853 - val_loss: 0.7355\n",
            "Epoch 56/100\n",
            "\u001b[1m127/127\u001b[0m \u001b[32m━━━━━━━━━━━━━━━━━━━━\u001b[0m\u001b[37m\u001b[0m \u001b[1m36s\u001b[0m 283ms/step - accuracy: 0.7911 - loss: 0.5139 - val_accuracy: 0.6215 - val_loss: 0.8153\n",
            "Epoch 57/100\n",
            "\u001b[1m127/127\u001b[0m \u001b[32m━━━━━━━━━━━━━━━━━━━━\u001b[0m\u001b[37m\u001b[0m \u001b[1m36s\u001b[0m 279ms/step - accuracy: 0.7968 - loss: 0.4979 - val_accuracy: 0.6773 - val_loss: 0.8042\n",
            "Epoch 58/100\n",
            "\u001b[1m127/127\u001b[0m \u001b[32m━━━━━━━━━━━━━━━━━━━━\u001b[0m\u001b[37m\u001b[0m \u001b[1m41s\u001b[0m 282ms/step - accuracy: 0.8020 - loss: 0.4883 - val_accuracy: 0.7131 - val_loss: 0.6759\n",
            "Epoch 59/100\n",
            "\u001b[1m127/127\u001b[0m \u001b[32m━━━━━━━━━━━━━━━━━━━━\u001b[0m\u001b[37m\u001b[0m \u001b[1m36s\u001b[0m 284ms/step - accuracy: 0.7885 - loss: 0.5280 - val_accuracy: 0.7689 - val_loss: 0.5965\n",
            "Epoch 60/100\n",
            "\u001b[1m127/127\u001b[0m \u001b[32m━━━━━━━━━━━━━━━━━━━━\u001b[0m\u001b[37m\u001b[0m \u001b[1m34s\u001b[0m 268ms/step - accuracy: 0.7985 - loss: 0.4996 - val_accuracy: 0.6972 - val_loss: 0.6943\n",
            "Epoch 61/100\n",
            "\u001b[1m127/127\u001b[0m \u001b[32m━━━━━━━━━━━━━━━━━━━━\u001b[0m\u001b[37m\u001b[0m \u001b[1m35s\u001b[0m 278ms/step - accuracy: 0.8015 - loss: 0.4658 - val_accuracy: 0.7968 - val_loss: 0.4904\n",
            "Epoch 62/100\n",
            "\u001b[1m127/127\u001b[0m \u001b[32m━━━━━━━━━━━━━━━━━━━━\u001b[0m\u001b[37m\u001b[0m \u001b[1m36s\u001b[0m 286ms/step - accuracy: 0.7996 - loss: 0.4824 - val_accuracy: 0.7251 - val_loss: 0.7261\n",
            "Epoch 63/100\n",
            "\u001b[1m127/127\u001b[0m \u001b[32m━━━━━━━━━━━━━━━━━━━━\u001b[0m\u001b[37m\u001b[0m \u001b[1m34s\u001b[0m 270ms/step - accuracy: 0.8097 - loss: 0.4785 - val_accuracy: 0.7291 - val_loss: 0.6490\n",
            "Epoch 64/100\n",
            "\u001b[1m127/127\u001b[0m \u001b[32m━━━━━━━━━━━━━━━━━━━━\u001b[0m\u001b[37m\u001b[0m \u001b[1m35s\u001b[0m 277ms/step - accuracy: 0.8128 - loss: 0.4794 - val_accuracy: 0.7211 - val_loss: 0.6742\n",
            "Epoch 65/100\n",
            "\u001b[1m127/127\u001b[0m \u001b[32m━━━━━━━━━━━━━━━━━━━━\u001b[0m\u001b[37m\u001b[0m \u001b[1m36s\u001b[0m 284ms/step - accuracy: 0.8113 - loss: 0.4746 - val_accuracy: 0.7291 - val_loss: 0.6451\n",
            "Epoch 66/100\n",
            "\u001b[1m127/127\u001b[0m \u001b[32m━━━━━━━━━━━━━━━━━━━━\u001b[0m\u001b[37m\u001b[0m \u001b[1m35s\u001b[0m 277ms/step - accuracy: 0.8050 - loss: 0.4805 - val_accuracy: 0.7610 - val_loss: 0.6627\n",
            "Epoch 67/100\n",
            "\u001b[1m127/127\u001b[0m \u001b[32m━━━━━━━━━━━━━━━━━━━━\u001b[0m\u001b[37m\u001b[0m \u001b[1m41s\u001b[0m 279ms/step - accuracy: 0.8050 - loss: 0.4711 - val_accuracy: 0.5896 - val_loss: 1.3926\n",
            "Epoch 68/100\n",
            "\u001b[1m127/127\u001b[0m \u001b[32m━━━━━━━━━━━━━━━━━━━━\u001b[0m\u001b[37m\u001b[0m \u001b[1m34s\u001b[0m 267ms/step - accuracy: 0.8125 - loss: 0.4619 - val_accuracy: 0.7371 - val_loss: 0.6472\n",
            "Epoch 69/100\n",
            "\u001b[1m127/127\u001b[0m \u001b[32m━━━━━━━━━━━━━━━━━━━━\u001b[0m\u001b[37m\u001b[0m \u001b[1m35s\u001b[0m 277ms/step - accuracy: 0.8073 - loss: 0.4746 - val_accuracy: 0.7211 - val_loss: 0.6664\n",
            "Epoch 70/100\n",
            "\u001b[1m127/127\u001b[0m \u001b[32m━━━━━━━━━━━━━━━━━━━━\u001b[0m\u001b[37m\u001b[0m \u001b[1m36s\u001b[0m 286ms/step - accuracy: 0.8160 - loss: 0.4474 - val_accuracy: 0.7331 - val_loss: 0.6485\n",
            "Epoch 71/100\n",
            "\u001b[1m127/127\u001b[0m \u001b[32m━━━━━━━━━━━━━━━━━━━━\u001b[0m\u001b[37m\u001b[0m \u001b[1m34s\u001b[0m 271ms/step - accuracy: 0.8111 - loss: 0.4583 - val_accuracy: 0.7171 - val_loss: 0.6515\n",
            "Epoch 72/100\n",
            "\u001b[1m127/127\u001b[0m \u001b[32m━━━━━━━━━━━━━━━━━━━━\u001b[0m\u001b[37m\u001b[0m \u001b[1m35s\u001b[0m 278ms/step - accuracy: 0.8249 - loss: 0.4372 - val_accuracy: 0.7570 - val_loss: 0.6330\n",
            "Epoch 73/100\n",
            "\u001b[1m127/127\u001b[0m \u001b[32m━━━━━━━━━━━━━━━━━━━━\u001b[0m\u001b[37m\u001b[0m \u001b[1m35s\u001b[0m 277ms/step - accuracy: 0.8276 - loss: 0.4263 - val_accuracy: 0.6215 - val_loss: 0.8785\n",
            "Epoch 74/100\n",
            "\u001b[1m127/127\u001b[0m \u001b[32m━━━━━━━━━━━━━━━━━━━━\u001b[0m\u001b[37m\u001b[0m \u001b[1m34s\u001b[0m 267ms/step - accuracy: 0.8082 - loss: 0.4740 - val_accuracy: 0.7450 - val_loss: 0.6942\n",
            "Epoch 75/100\n",
            "\u001b[1m127/127\u001b[0m \u001b[32m━━━━━━━━━━━━━━━━━━━━\u001b[0m\u001b[37m\u001b[0m \u001b[1m35s\u001b[0m 278ms/step - accuracy: 0.8252 - loss: 0.4373 - val_accuracy: 0.7131 - val_loss: 0.6712\n",
            "Epoch 76/100\n",
            "\u001b[1m127/127\u001b[0m \u001b[32m━━━━━━━━━━━━━━━━━━━━\u001b[0m\u001b[37m\u001b[0m \u001b[1m35s\u001b[0m 275ms/step - accuracy: 0.8094 - loss: 0.4783 - val_accuracy: 0.7291 - val_loss: 0.7373\n",
            "Epoch 77/100\n",
            "\u001b[1m127/127\u001b[0m \u001b[32m━━━━━━━━━━━━━━━━━━━━\u001b[0m\u001b[37m\u001b[0m \u001b[1m35s\u001b[0m 273ms/step - accuracy: 0.8192 - loss: 0.4573 - val_accuracy: 0.7211 - val_loss: 0.7134\n",
            "Epoch 78/100\n",
            "\u001b[1m127/127\u001b[0m \u001b[32m━━━━━━━━━━━━━━━━━━━━\u001b[0m\u001b[37m\u001b[0m \u001b[1m35s\u001b[0m 278ms/step - accuracy: 0.8253 - loss: 0.4273 - val_accuracy: 0.7131 - val_loss: 0.7146\n",
            "Epoch 79/100\n",
            "\u001b[1m127/127\u001b[0m \u001b[32m━━━━━━━━━━━━━━━━━━━━\u001b[0m\u001b[37m\u001b[0m \u001b[1m36s\u001b[0m 283ms/step - accuracy: 0.8313 - loss: 0.4309 - val_accuracy: 0.7769 - val_loss: 0.5736\n",
            "Epoch 80/100\n",
            "\u001b[1m127/127\u001b[0m \u001b[32m━━━━━━━━━━━━━━━━━━━━\u001b[0m\u001b[37m\u001b[0m \u001b[1m40s\u001b[0m 277ms/step - accuracy: 0.8206 - loss: 0.4239 - val_accuracy: 0.7171 - val_loss: 0.6930\n",
            "Epoch 81/100\n",
            "\u001b[1m127/127\u001b[0m \u001b[32m━━━━━━━━━━━━━━━━━━━━\u001b[0m\u001b[37m\u001b[0m \u001b[1m34s\u001b[0m 269ms/step - accuracy: 0.8183 - loss: 0.4457 - val_accuracy: 0.7570 - val_loss: 0.5776\n",
            "Epoch 82/100\n",
            "\u001b[1m127/127\u001b[0m \u001b[32m━━━━━━━━━━━━━━━━━━━━\u001b[0m\u001b[37m\u001b[0m \u001b[1m35s\u001b[0m 278ms/step - accuracy: 0.8075 - loss: 0.4601 - val_accuracy: 0.7131 - val_loss: 0.6573\n",
            "Epoch 83/100\n",
            "\u001b[1m127/127\u001b[0m \u001b[32m━━━━━━━━━━━━━━━━━━━━\u001b[0m\u001b[37m\u001b[0m \u001b[1m36s\u001b[0m 284ms/step - accuracy: 0.8392 - loss: 0.4337 - val_accuracy: 0.7291 - val_loss: 0.6643\n",
            "Epoch 84/100\n",
            "\u001b[1m127/127\u001b[0m \u001b[32m━━━━━━━━━━━━━━━━━━━━\u001b[0m\u001b[37m\u001b[0m \u001b[1m41s\u001b[0m 288ms/step - accuracy: 0.8243 - loss: 0.4475 - val_accuracy: 0.7211 - val_loss: 0.7418\n",
            "Epoch 85/100\n",
            "\u001b[1m127/127\u001b[0m \u001b[32m━━━━━━━━━━━━━━━━━━━━\u001b[0m\u001b[37m\u001b[0m \u001b[1m37s\u001b[0m 290ms/step - accuracy: 0.8192 - loss: 0.4301 - val_accuracy: 0.7490 - val_loss: 0.6923\n",
            "Epoch 86/100\n",
            "\u001b[1m127/127\u001b[0m \u001b[32m━━━━━━━━━━━━━━━━━━━━\u001b[0m\u001b[37m\u001b[0m \u001b[1m34s\u001b[0m 270ms/step - accuracy: 0.8284 - loss: 0.4467 - val_accuracy: 0.7092 - val_loss: 0.7623\n",
            "Epoch 87/100\n",
            "\u001b[1m127/127\u001b[0m \u001b[32m━━━━━━━━━━━━━━━━━━━━\u001b[0m\u001b[37m\u001b[0m \u001b[1m36s\u001b[0m 285ms/step - accuracy: 0.8252 - loss: 0.4231 - val_accuracy: 0.7371 - val_loss: 0.6177\n",
            "Epoch 88/100\n",
            "\u001b[1m127/127\u001b[0m \u001b[32m━━━━━━━━━━━━━━━━━━━━\u001b[0m\u001b[37m\u001b[0m \u001b[1m36s\u001b[0m 287ms/step - accuracy: 0.8347 - loss: 0.4218 - val_accuracy: 0.7849 - val_loss: 0.5579\n",
            "Epoch 89/100\n",
            "\u001b[1m127/127\u001b[0m \u001b[32m━━━━━━━━━━━━━━━━━━━━\u001b[0m\u001b[37m\u001b[0m \u001b[1m37s\u001b[0m 289ms/step - accuracy: 0.8311 - loss: 0.4172 - val_accuracy: 0.7052 - val_loss: 0.6965\n",
            "Epoch 90/100\n",
            "\u001b[1m127/127\u001b[0m \u001b[32m━━━━━━━━━━━━━━━━━━━━\u001b[0m\u001b[37m\u001b[0m \u001b[1m35s\u001b[0m 277ms/step - accuracy: 0.8295 - loss: 0.4346 - val_accuracy: 0.7410 - val_loss: 0.6705\n",
            "Epoch 91/100\n",
            "\u001b[1m127/127\u001b[0m \u001b[32m━━━━━━━━━━━━━━━━━━━━\u001b[0m\u001b[37m\u001b[0m \u001b[1m37s\u001b[0m 287ms/step - accuracy: 0.8359 - loss: 0.4217 - val_accuracy: 0.7809 - val_loss: 0.5558\n",
            "Epoch 92/100\n",
            "\u001b[1m127/127\u001b[0m \u001b[32m━━━━━━━━━━━━━━━━━━━━\u001b[0m\u001b[37m\u001b[0m \u001b[1m36s\u001b[0m 281ms/step - accuracy: 0.8291 - loss: 0.4150 - val_accuracy: 0.7849 - val_loss: 0.5626\n",
            "Epoch 93/100\n",
            "\u001b[1m127/127\u001b[0m \u001b[32m━━━━━━━━━━━━━━━━━━━━\u001b[0m\u001b[37m\u001b[0m \u001b[1m36s\u001b[0m 286ms/step - accuracy: 0.8303 - loss: 0.4157 - val_accuracy: 0.7769 - val_loss: 0.6467\n",
            "Epoch 94/100\n",
            "\u001b[1m127/127\u001b[0m \u001b[32m━━━━━━━━━━━━━━━━━━━━\u001b[0m\u001b[37m\u001b[0m \u001b[1m35s\u001b[0m 272ms/step - accuracy: 0.8463 - loss: 0.3995 - val_accuracy: 0.7570 - val_loss: 0.6549\n",
            "Epoch 95/100\n",
            "\u001b[1m127/127\u001b[0m \u001b[32m━━━━━━━━━━━━━━━━━━━━\u001b[0m\u001b[37m\u001b[0m \u001b[1m36s\u001b[0m 287ms/step - accuracy: 0.8427 - loss: 0.4183 - val_accuracy: 0.7649 - val_loss: 0.6429\n",
            "Epoch 96/100\n",
            "\u001b[1m127/127\u001b[0m \u001b[32m━━━━━━━━━━━━━━━━━━━━\u001b[0m\u001b[37m\u001b[0m \u001b[1m40s\u001b[0m 278ms/step - accuracy: 0.8419 - loss: 0.4098 - val_accuracy: 0.7888 - val_loss: 0.5718\n",
            "Epoch 97/100\n",
            "\u001b[1m127/127\u001b[0m \u001b[32m━━━━━━━━━━━━━━━━━━━━\u001b[0m\u001b[37m\u001b[0m \u001b[1m35s\u001b[0m 278ms/step - accuracy: 0.8451 - loss: 0.4000 - val_accuracy: 0.7131 - val_loss: 0.7979\n",
            "Epoch 98/100\n",
            "\u001b[1m127/127\u001b[0m \u001b[32m━━━━━━━━━━━━━━━━━━━━\u001b[0m\u001b[37m\u001b[0m \u001b[1m37s\u001b[0m 292ms/step - accuracy: 0.8265 - loss: 0.4256 - val_accuracy: 0.7530 - val_loss: 0.5913\n",
            "Epoch 99/100\n",
            "\u001b[1m127/127\u001b[0m \u001b[32m━━━━━━━━━━━━━━━━━━━━\u001b[0m\u001b[37m\u001b[0m \u001b[1m35s\u001b[0m 278ms/step - accuracy: 0.8474 - loss: 0.3833 - val_accuracy: 0.8008 - val_loss: 0.5981\n",
            "Epoch 100/100\n",
            "\u001b[1m127/127\u001b[0m \u001b[32m━━━━━━━━━━━━━━━━━━━━\u001b[0m\u001b[37m\u001b[0m \u001b[1m37s\u001b[0m 285ms/step - accuracy: 0.8379 - loss: 0.4080 - val_accuracy: 0.7530 - val_loss: 0.7005\n"
          ]
        },
        {
          "output_type": "execute_result",
          "data": {
            "text/plain": [
              "<keras.src.callbacks.history.History at 0x7bfe8e463b10>"
            ]
          },
          "metadata": {},
          "execution_count": 58
        }
      ]
    }
  ]
}