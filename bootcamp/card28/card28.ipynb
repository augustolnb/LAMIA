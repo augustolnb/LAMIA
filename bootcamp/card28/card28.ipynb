{
  "nbformat": 4,
  "nbformat_minor": 0,
  "metadata": {
    "colab": {
      "provenance": [],
      "gpuType": "T4",
      "collapsed_sections": [
        "z-nxdgKF7MiN",
        "dpL8GjOLyyBD",
        "cB5HKU6My20R",
        "MY78ubOGzFhq",
        "pqe53Q-r6HCE",
        "1AjtSxNtY7PV",
        "7On1aXvAhv4b",
        "JV6TDBQT6to-",
        "C7LBmeNP6tpA",
        "i350WED-6tpH",
        "Log9Q0-r6tpF",
        "DMTxouNEOuXM"
      ]
    },
    "kernelspec": {
      "name": "python3",
      "display_name": "Python 3"
    },
    "language_info": {
      "name": "python"
    },
    "accelerator": "GPU"
  },
  "cells": [
    {
      "cell_type": "code",
      "source": [
        "!wget \"https://github.com/augustolnb/LAMIA/raw/refs/heads/main/bootcamp/card28/dataset-dental-floss.zip\""
      ],
      "metadata": {
        "colab": {
          "base_uri": "https://localhost:8080/"
        },
        "id": "4kWyuRhZFgGp",
        "outputId": "779ccd39-547f-4baa-cc43-c8cab22d29a8"
      },
      "execution_count": 1,
      "outputs": [
        {
          "output_type": "stream",
          "name": "stdout",
          "text": [
            "--2025-08-07 15:40:55--  https://github.com/augustolnb/LAMIA/raw/refs/heads/main/bootcamp/card28/dataset-dental-floss.zip\n",
            "Resolving github.com (github.com)... 20.205.243.166\n",
            "Connecting to github.com (github.com)|20.205.243.166|:443... connected.\n",
            "HTTP request sent, awaiting response... 302 Found\n",
            "Location: https://raw.githubusercontent.com/augustolnb/LAMIA/refs/heads/main/bootcamp/card28/dataset-dental-floss.zip [following]\n",
            "--2025-08-07 15:40:55--  https://raw.githubusercontent.com/augustolnb/LAMIA/refs/heads/main/bootcamp/card28/dataset-dental-floss.zip\n",
            "Resolving raw.githubusercontent.com (raw.githubusercontent.com)... 185.199.111.133, 185.199.110.133, 185.199.108.133, ...\n",
            "Connecting to raw.githubusercontent.com (raw.githubusercontent.com)|185.199.111.133|:443... connected.\n",
            "HTTP request sent, awaiting response... 200 OK\n",
            "Length: 21210526 (20M) [application/zip]\n",
            "Saving to: ‘dataset-dental-floss.zip’\n",
            "\n",
            "dataset-dental-flos 100%[===================>]  20.23M  --.-KB/s    in 0.04s   \n",
            "\n",
            "2025-08-07 15:40:55 (463 MB/s) - ‘dataset-dental-floss.zip’ saved [21210526/21210526]\n",
            "\n"
          ]
        }
      ]
    },
    {
      "cell_type": "code",
      "source": [
        "!mkdir /content/ds"
      ],
      "metadata": {
        "id": "HSPn2xzMImIb"
      },
      "execution_count": 2,
      "outputs": []
    },
    {
      "cell_type": "code",
      "source": [
        "!unzip /content/dataset-dental-floss.zip -d /content/ds"
      ],
      "metadata": {
        "id": "Fro--P5yfBMY"
      },
      "execution_count": null,
      "outputs": []
    },
    {
      "cell_type": "code",
      "source": [
        "import os\n",
        "import cv2\n",
        "import zipfile\n",
        "import pathlib\n",
        "import numpy as np\n",
        "import pandas as pd\n",
        "import matplotlib.pyplot as plt"
      ],
      "metadata": {
        "id": "mGRnPIKQ2gM2"
      },
      "execution_count": 4,
      "outputs": []
    },
    {
      "cell_type": "code",
      "source": [
        "import tensorflow as tf\n",
        "from tensorflow import keras\n",
        "from tensorflow.keras import layers"
      ],
      "metadata": {
        "id": "WblqfE68hVUK"
      },
      "execution_count": 5,
      "outputs": []
    },
    {
      "cell_type": "code",
      "source": [
        "# Caminho do dataset\n",
        "\n",
        "dataset_dir = pathlib.Path('/content/ds/')\n",
        "\n",
        "# Parâmetros das imagens\n",
        "\n",
        "image_size = (128, 128)\n",
        "batch_size = 32"
      ],
      "metadata": {
        "id": "q2tBEYVXfAeI"
      },
      "execution_count": 6,
      "outputs": []
    },
    {
      "cell_type": "markdown",
      "source": [
        "## Preparação dos dados"
      ],
      "metadata": {
        "id": "z-nxdgKF7MiN"
      }
    },
    {
      "cell_type": "code",
      "source": [
        "# Dividir dataset\n",
        "\n",
        "# Conjunto de Treino (75%)\n",
        "train_ds = tf.keras.utils.image_dataset_from_directory(\n",
        "    dataset_dir,\n",
        "    labels='inferred',\n",
        "    label_mode='binary',\n",
        "    validation_split=0.25,  # 25% do dataset para validação e teste\n",
        "    subset='training',\n",
        "    seed=123,\n",
        "    image_size=image_size,\n",
        "    batch_size=batch_size,\n",
        "    color_mode='grayscale'\n",
        ")\n",
        "\n",
        "# Conjunto de Validação (15%) e Teste (10%)\n",
        "val_ds = tf.keras.utils.image_dataset_from_directory(\n",
        "    dataset_dir,\n",
        "    labels='inferred',\n",
        "    label_mode='binary',\n",
        "    validation_split=0.25,\n",
        "    subset='validation',\n",
        "    seed=123,\n",
        "    image_size=image_size,\n",
        "    batch_size=batch_size,\n",
        "    color_mode='grayscale'\n",
        ")"
      ],
      "metadata": {
        "colab": {
          "base_uri": "https://localhost:8080/"
        },
        "id": "QNNBjsOKhXlu",
        "outputId": "f8b49903-586b-48b9-a8c2-14938602b05d"
      },
      "execution_count": 7,
      "outputs": [
        {
          "output_type": "stream",
          "name": "stdout",
          "text": [
            "Found 4066 files belonging to 2 classes.\n",
            "Using 3050 files for training.\n",
            "Found 4066 files belonging to 2 classes.\n",
            "Using 1016 files for validation.\n"
          ]
        }
      ]
    },
    {
      "cell_type": "code",
      "source": [
        "# Normalizar as imagens\n",
        "\n",
        "normalizacao = tf.keras.layers.Rescaling(1./255)\n",
        "\n",
        "train_ds = train_ds.map(lambda x, y: (normalizacao(x), y))\n",
        "val_ds = val_ds.map(lambda x, y: (normalizacao(x), y))"
      ],
      "metadata": {
        "id": "Xl9Y4t_vik9x"
      },
      "execution_count": 8,
      "outputs": []
    },
    {
      "cell_type": "code",
      "source": [
        "# Dividir validação e teste\n",
        "# 'val_ds' tem 25% dos dados.\n",
        "# 60% de 25% = 15% do total\n",
        "# 40% de 25% = 10% do total\n",
        "\n",
        "val_batches = tf.data.experimental.cardinality(val_ds)\n",
        "\n",
        "test_ds = val_ds.take(tf.cast(tf.cast(val_batches, tf.float32) * 0.4, tf.int64))\n",
        "val_ds = val_ds.skip(tf.cast(tf.cast(val_batches, tf.float32) * 0.4, tf.int64))"
      ],
      "metadata": {
        "id": "oTBCoq2Y4YHU"
      },
      "execution_count": 9,
      "outputs": []
    },
    {
      "cell_type": "code",
      "source": [
        "# Verificando os conjuntos\n",
        "\n",
        "print(f\"Número de lotes de treinamento: {tf.data.experimental.cardinality(train_ds)}\")\n",
        "print(f\"Número de lotes de validação: {tf.data.experimental.cardinality(val_ds)}\")\n",
        "print(f\"Número de lotes de teste: {tf.data.experimental.cardinality(test_ds)}\")"
      ],
      "metadata": {
        "colab": {
          "base_uri": "https://localhost:8080/"
        },
        "id": "7olBGEIRjI1d",
        "outputId": "7a12aaff-cc6c-436b-cde5-42839d8d23ac"
      },
      "execution_count": 10,
      "outputs": [
        {
          "output_type": "stream",
          "name": "stdout",
          "text": [
            "Número de lotes de treinamento: 24\n",
            "Número de lotes de validação: 5\n",
            "Número de lotes de teste: 3\n"
          ]
        }
      ]
    },
    {
      "cell_type": "code",
      "source": [
        "# Configuração para desempenho\n",
        "AUTOTUNE = tf.data.AUTOTUNE\n",
        "train_ds = train_ds.cache().prefetch(buffer_size=AUTOTUNE)\n",
        "val_ds = val_ds.cache().prefetch(buffer_size=AUTOTUNE)\n",
        "test_ds = test_ds.cache().prefetch(buffer_size=AUTOTUNE)"
      ],
      "metadata": {
        "id": "DNJJgW0qkI-n"
      },
      "execution_count": 11,
      "outputs": []
    },
    {
      "cell_type": "code",
      "source": [
        "# data augmentation para o conjunto de treino\n",
        "data_augmentation = keras.Sequential([\n",
        "    layers.RandomFlip(\"horizontal\"),  # espelhamento horizontal\n",
        "    layers.RandomContrast(0.2)       # variação de contraste\n",
        "])\n",
        "\n",
        "train_ds = train_ds.map(lambda x, y: (data_augmentation(x, training=True), y))"
      ],
      "metadata": {
        "id": "XlkDbWJJmrbM"
      },
      "execution_count": 12,
      "outputs": []
    },
    {
      "cell_type": "code",
      "source": [
        "num_classes = 2"
      ],
      "metadata": {
        "id": "GRPkGh2g0Byx"
      },
      "execution_count": 13,
      "outputs": []
    },
    {
      "cell_type": "markdown",
      "source": [
        "## 1. Modelo sem Dropout"
      ],
      "metadata": {
        "id": "dpL8GjOLyyBD"
      }
    },
    {
      "cell_type": "code",
      "source": [
        "model = keras.Sequential([\n",
        "    # camada de entrada com o formato das suas imagens (128x128)\n",
        "    layers.Input(shape=(128, 128, 1)),\n",
        "\n",
        "    layers.Conv2D(32, 3, activation='relu'),\n",
        "    layers.MaxPooling2D(),\n",
        "    layers.Conv2D(64, 3, activation='relu'),\n",
        "    layers.MaxPooling2D(),\n",
        "    layers.Conv2D(128, 3, activation='relu'),\n",
        "    layers.MaxPooling2D(),\n",
        "\n",
        "    layers.Flatten(),\n",
        "    layers.Dense(128, activation='relu'),\n",
        "    layers.Dense(num_classes)\n",
        "])"
      ],
      "metadata": {
        "id": "ZGpJTwLxnHKP"
      },
      "execution_count": null,
      "outputs": []
    },
    {
      "cell_type": "markdown",
      "source": [
        "## 2. Modelo com Dropout"
      ],
      "metadata": {
        "id": "cB5HKU6My20R"
      }
    },
    {
      "cell_type": "code",
      "source": [
        "model = keras.Sequential([\n",
        "    layers.Input(shape=(128, 128, 1)),\n",
        "\n",
        "    layers.Conv2D(32, 3, activation='relu'),\n",
        "    layers.MaxPooling2D(),\n",
        "    layers.Conv2D(64, 3, activation='relu'),\n",
        "    layers.MaxPooling2D(),\n",
        "    layers.Conv2D(128, 3, activation='relu'),\n",
        "    layers.MaxPooling2D(),\n",
        "\n",
        "    layers.Flatten(),\n",
        "    layers.Dense(128, activation='relu'),\n",
        "\n",
        "    # camada dropout\n",
        "    layers.Dropout(0.4),\n",
        "\n",
        "    layers.Dense(num_classes)\n",
        "])"
      ],
      "metadata": {
        "id": "BBrmMvRJyv0R"
      },
      "execution_count": null,
      "outputs": []
    },
    {
      "cell_type": "markdown",
      "source": [
        "## Treino (testando o modelo)"
      ],
      "metadata": {
        "id": "MY78ubOGzFhq"
      }
    },
    {
      "cell_type": "code",
      "source": [
        "model.summary()"
      ],
      "metadata": {
        "colab": {
          "base_uri": "https://localhost:8080/",
          "height": 449
        },
        "id": "pY_ymoFRzA0v",
        "outputId": "538648dd-da13-443a-8d7b-a00bbc361b51"
      },
      "execution_count": null,
      "outputs": [
        {
          "output_type": "display_data",
          "data": {
            "text/plain": [
              "\u001b[1mModel: \"sequential_1\"\u001b[0m\n"
            ],
            "text/html": [
              "<pre style=\"white-space:pre;overflow-x:auto;line-height:normal;font-family:Menlo,'DejaVu Sans Mono',consolas,'Courier New',monospace\"><span style=\"font-weight: bold\">Model: \"sequential_1\"</span>\n",
              "</pre>\n"
            ]
          },
          "metadata": {}
        },
        {
          "output_type": "display_data",
          "data": {
            "text/plain": [
              "┏━━━━━━━━━━━━━━━━━━━━━━━━━━━━━━━━━┳━━━━━━━━━━━━━━━━━━━━━━━━┳━━━━━━━━━━━━━━━┓\n",
              "┃\u001b[1m \u001b[0m\u001b[1mLayer (type)                   \u001b[0m\u001b[1m \u001b[0m┃\u001b[1m \u001b[0m\u001b[1mOutput Shape          \u001b[0m\u001b[1m \u001b[0m┃\u001b[1m \u001b[0m\u001b[1m      Param #\u001b[0m\u001b[1m \u001b[0m┃\n",
              "┡━━━━━━━━━━━━━━━━━━━━━━━━━━━━━━━━━╇━━━━━━━━━━━━━━━━━━━━━━━━╇━━━━━━━━━━━━━━━┩\n",
              "│ conv2d (\u001b[38;5;33mConv2D\u001b[0m)                 │ (\u001b[38;5;45mNone\u001b[0m, \u001b[38;5;34m126\u001b[0m, \u001b[38;5;34m126\u001b[0m, \u001b[38;5;34m32\u001b[0m)   │           \u001b[38;5;34m320\u001b[0m │\n",
              "├─────────────────────────────────┼────────────────────────┼───────────────┤\n",
              "│ max_pooling2d (\u001b[38;5;33mMaxPooling2D\u001b[0m)    │ (\u001b[38;5;45mNone\u001b[0m, \u001b[38;5;34m63\u001b[0m, \u001b[38;5;34m63\u001b[0m, \u001b[38;5;34m32\u001b[0m)     │             \u001b[38;5;34m0\u001b[0m │\n",
              "├─────────────────────────────────┼────────────────────────┼───────────────┤\n",
              "│ conv2d_1 (\u001b[38;5;33mConv2D\u001b[0m)               │ (\u001b[38;5;45mNone\u001b[0m, \u001b[38;5;34m61\u001b[0m, \u001b[38;5;34m61\u001b[0m, \u001b[38;5;34m64\u001b[0m)     │        \u001b[38;5;34m18,496\u001b[0m │\n",
              "├─────────────────────────────────┼────────────────────────┼───────────────┤\n",
              "│ max_pooling2d_1 (\u001b[38;5;33mMaxPooling2D\u001b[0m)  │ (\u001b[38;5;45mNone\u001b[0m, \u001b[38;5;34m30\u001b[0m, \u001b[38;5;34m30\u001b[0m, \u001b[38;5;34m64\u001b[0m)     │             \u001b[38;5;34m0\u001b[0m │\n",
              "├─────────────────────────────────┼────────────────────────┼───────────────┤\n",
              "│ conv2d_2 (\u001b[38;5;33mConv2D\u001b[0m)               │ (\u001b[38;5;45mNone\u001b[0m, \u001b[38;5;34m28\u001b[0m, \u001b[38;5;34m28\u001b[0m, \u001b[38;5;34m128\u001b[0m)    │        \u001b[38;5;34m73,856\u001b[0m │\n",
              "├─────────────────────────────────┼────────────────────────┼───────────────┤\n",
              "│ max_pooling2d_2 (\u001b[38;5;33mMaxPooling2D\u001b[0m)  │ (\u001b[38;5;45mNone\u001b[0m, \u001b[38;5;34m14\u001b[0m, \u001b[38;5;34m14\u001b[0m, \u001b[38;5;34m128\u001b[0m)    │             \u001b[38;5;34m0\u001b[0m │\n",
              "├─────────────────────────────────┼────────────────────────┼───────────────┤\n",
              "│ flatten (\u001b[38;5;33mFlatten\u001b[0m)               │ (\u001b[38;5;45mNone\u001b[0m, \u001b[38;5;34m25088\u001b[0m)          │             \u001b[38;5;34m0\u001b[0m │\n",
              "├─────────────────────────────────┼────────────────────────┼───────────────┤\n",
              "│ dense (\u001b[38;5;33mDense\u001b[0m)                   │ (\u001b[38;5;45mNone\u001b[0m, \u001b[38;5;34m128\u001b[0m)            │     \u001b[38;5;34m3,211,392\u001b[0m │\n",
              "├─────────────────────────────────┼────────────────────────┼───────────────┤\n",
              "│ dropout (\u001b[38;5;33mDropout\u001b[0m)               │ (\u001b[38;5;45mNone\u001b[0m, \u001b[38;5;34m128\u001b[0m)            │             \u001b[38;5;34m0\u001b[0m │\n",
              "├─────────────────────────────────┼────────────────────────┼───────────────┤\n",
              "│ dense_1 (\u001b[38;5;33mDense\u001b[0m)                 │ (\u001b[38;5;45mNone\u001b[0m, \u001b[38;5;34m2\u001b[0m)              │           \u001b[38;5;34m258\u001b[0m │\n",
              "└─────────────────────────────────┴────────────────────────┴───────────────┘\n"
            ],
            "text/html": [
              "<pre style=\"white-space:pre;overflow-x:auto;line-height:normal;font-family:Menlo,'DejaVu Sans Mono',consolas,'Courier New',monospace\">┏━━━━━━━━━━━━━━━━━━━━━━━━━━━━━━━━━┳━━━━━━━━━━━━━━━━━━━━━━━━┳━━━━━━━━━━━━━━━┓\n",
              "┃<span style=\"font-weight: bold\"> Layer (type)                    </span>┃<span style=\"font-weight: bold\"> Output Shape           </span>┃<span style=\"font-weight: bold\">       Param # </span>┃\n",
              "┡━━━━━━━━━━━━━━━━━━━━━━━━━━━━━━━━━╇━━━━━━━━━━━━━━━━━━━━━━━━╇━━━━━━━━━━━━━━━┩\n",
              "│ conv2d (<span style=\"color: #0087ff; text-decoration-color: #0087ff\">Conv2D</span>)                 │ (<span style=\"color: #00d7ff; text-decoration-color: #00d7ff\">None</span>, <span style=\"color: #00af00; text-decoration-color: #00af00\">126</span>, <span style=\"color: #00af00; text-decoration-color: #00af00\">126</span>, <span style=\"color: #00af00; text-decoration-color: #00af00\">32</span>)   │           <span style=\"color: #00af00; text-decoration-color: #00af00\">320</span> │\n",
              "├─────────────────────────────────┼────────────────────────┼───────────────┤\n",
              "│ max_pooling2d (<span style=\"color: #0087ff; text-decoration-color: #0087ff\">MaxPooling2D</span>)    │ (<span style=\"color: #00d7ff; text-decoration-color: #00d7ff\">None</span>, <span style=\"color: #00af00; text-decoration-color: #00af00\">63</span>, <span style=\"color: #00af00; text-decoration-color: #00af00\">63</span>, <span style=\"color: #00af00; text-decoration-color: #00af00\">32</span>)     │             <span style=\"color: #00af00; text-decoration-color: #00af00\">0</span> │\n",
              "├─────────────────────────────────┼────────────────────────┼───────────────┤\n",
              "│ conv2d_1 (<span style=\"color: #0087ff; text-decoration-color: #0087ff\">Conv2D</span>)               │ (<span style=\"color: #00d7ff; text-decoration-color: #00d7ff\">None</span>, <span style=\"color: #00af00; text-decoration-color: #00af00\">61</span>, <span style=\"color: #00af00; text-decoration-color: #00af00\">61</span>, <span style=\"color: #00af00; text-decoration-color: #00af00\">64</span>)     │        <span style=\"color: #00af00; text-decoration-color: #00af00\">18,496</span> │\n",
              "├─────────────────────────────────┼────────────────────────┼───────────────┤\n",
              "│ max_pooling2d_1 (<span style=\"color: #0087ff; text-decoration-color: #0087ff\">MaxPooling2D</span>)  │ (<span style=\"color: #00d7ff; text-decoration-color: #00d7ff\">None</span>, <span style=\"color: #00af00; text-decoration-color: #00af00\">30</span>, <span style=\"color: #00af00; text-decoration-color: #00af00\">30</span>, <span style=\"color: #00af00; text-decoration-color: #00af00\">64</span>)     │             <span style=\"color: #00af00; text-decoration-color: #00af00\">0</span> │\n",
              "├─────────────────────────────────┼────────────────────────┼───────────────┤\n",
              "│ conv2d_2 (<span style=\"color: #0087ff; text-decoration-color: #0087ff\">Conv2D</span>)               │ (<span style=\"color: #00d7ff; text-decoration-color: #00d7ff\">None</span>, <span style=\"color: #00af00; text-decoration-color: #00af00\">28</span>, <span style=\"color: #00af00; text-decoration-color: #00af00\">28</span>, <span style=\"color: #00af00; text-decoration-color: #00af00\">128</span>)    │        <span style=\"color: #00af00; text-decoration-color: #00af00\">73,856</span> │\n",
              "├─────────────────────────────────┼────────────────────────┼───────────────┤\n",
              "│ max_pooling2d_2 (<span style=\"color: #0087ff; text-decoration-color: #0087ff\">MaxPooling2D</span>)  │ (<span style=\"color: #00d7ff; text-decoration-color: #00d7ff\">None</span>, <span style=\"color: #00af00; text-decoration-color: #00af00\">14</span>, <span style=\"color: #00af00; text-decoration-color: #00af00\">14</span>, <span style=\"color: #00af00; text-decoration-color: #00af00\">128</span>)    │             <span style=\"color: #00af00; text-decoration-color: #00af00\">0</span> │\n",
              "├─────────────────────────────────┼────────────────────────┼───────────────┤\n",
              "│ flatten (<span style=\"color: #0087ff; text-decoration-color: #0087ff\">Flatten</span>)               │ (<span style=\"color: #00d7ff; text-decoration-color: #00d7ff\">None</span>, <span style=\"color: #00af00; text-decoration-color: #00af00\">25088</span>)          │             <span style=\"color: #00af00; text-decoration-color: #00af00\">0</span> │\n",
              "├─────────────────────────────────┼────────────────────────┼───────────────┤\n",
              "│ dense (<span style=\"color: #0087ff; text-decoration-color: #0087ff\">Dense</span>)                   │ (<span style=\"color: #00d7ff; text-decoration-color: #00d7ff\">None</span>, <span style=\"color: #00af00; text-decoration-color: #00af00\">128</span>)            │     <span style=\"color: #00af00; text-decoration-color: #00af00\">3,211,392</span> │\n",
              "├─────────────────────────────────┼────────────────────────┼───────────────┤\n",
              "│ dropout (<span style=\"color: #0087ff; text-decoration-color: #0087ff\">Dropout</span>)               │ (<span style=\"color: #00d7ff; text-decoration-color: #00d7ff\">None</span>, <span style=\"color: #00af00; text-decoration-color: #00af00\">128</span>)            │             <span style=\"color: #00af00; text-decoration-color: #00af00\">0</span> │\n",
              "├─────────────────────────────────┼────────────────────────┼───────────────┤\n",
              "│ dense_1 (<span style=\"color: #0087ff; text-decoration-color: #0087ff\">Dense</span>)                 │ (<span style=\"color: #00d7ff; text-decoration-color: #00d7ff\">None</span>, <span style=\"color: #00af00; text-decoration-color: #00af00\">2</span>)              │           <span style=\"color: #00af00; text-decoration-color: #00af00\">258</span> │\n",
              "└─────────────────────────────────┴────────────────────────┴───────────────┘\n",
              "</pre>\n"
            ]
          },
          "metadata": {}
        },
        {
          "output_type": "display_data",
          "data": {
            "text/plain": [
              "\u001b[1m Total params: \u001b[0m\u001b[38;5;34m3,304,322\u001b[0m (12.60 MB)\n"
            ],
            "text/html": [
              "<pre style=\"white-space:pre;overflow-x:auto;line-height:normal;font-family:Menlo,'DejaVu Sans Mono',consolas,'Courier New',monospace\"><span style=\"font-weight: bold\"> Total params: </span><span style=\"color: #00af00; text-decoration-color: #00af00\">3,304,322</span> (12.60 MB)\n",
              "</pre>\n"
            ]
          },
          "metadata": {}
        },
        {
          "output_type": "display_data",
          "data": {
            "text/plain": [
              "\u001b[1m Trainable params: \u001b[0m\u001b[38;5;34m3,304,322\u001b[0m (12.60 MB)\n"
            ],
            "text/html": [
              "<pre style=\"white-space:pre;overflow-x:auto;line-height:normal;font-family:Menlo,'DejaVu Sans Mono',consolas,'Courier New',monospace\"><span style=\"font-weight: bold\"> Trainable params: </span><span style=\"color: #00af00; text-decoration-color: #00af00\">3,304,322</span> (12.60 MB)\n",
              "</pre>\n"
            ]
          },
          "metadata": {}
        },
        {
          "output_type": "display_data",
          "data": {
            "text/plain": [
              "\u001b[1m Non-trainable params: \u001b[0m\u001b[38;5;34m0\u001b[0m (0.00 B)\n"
            ],
            "text/html": [
              "<pre style=\"white-space:pre;overflow-x:auto;line-height:normal;font-family:Menlo,'DejaVu Sans Mono',consolas,'Courier New',monospace\"><span style=\"font-weight: bold\"> Non-trainable params: </span><span style=\"color: #00af00; text-decoration-color: #00af00\">0</span> (0.00 B)\n",
              "</pre>\n"
            ]
          },
          "metadata": {}
        }
      ]
    },
    {
      "cell_type": "code",
      "source": [
        "optimizer = tf.keras.optimizers.Adam(learning_rate=1e-3)\n",
        "model.compile(\n",
        "    optimizer=optimizer,\n",
        "    loss=tf.keras.losses.SparseCategoricalCrossentropy(from_logits=True),\n",
        "    metrics=['accuracy']\n",
        ")"
      ],
      "metadata": {
        "id": "4vkqraWbzETO"
      },
      "execution_count": null,
      "outputs": []
    },
    {
      "cell_type": "code",
      "source": [
        "epochs = 13"
      ],
      "metadata": {
        "id": "s_kaMC9X1QHQ"
      },
      "execution_count": null,
      "outputs": []
    },
    {
      "cell_type": "code",
      "source": [
        "history = model.fit(\n",
        "    train_ds,\n",
        "    validation_data=val_ds,\n",
        "    epochs=epochs\n",
        ")\n",
        "\n",
        "print(\"Treinamento concluído!\")"
      ],
      "metadata": {
        "colab": {
          "base_uri": "https://localhost:8080/"
        },
        "id": "tVXqqRXs1ILq",
        "outputId": "5e04886d-0de7-4a81-ac5c-8c06c604c372"
      },
      "execution_count": null,
      "outputs": [
        {
          "output_type": "stream",
          "name": "stdout",
          "text": [
            "Epoch 1/13\n",
            "\u001b[1m48/48\u001b[0m \u001b[32m━━━━━━━━━━━━━━━━━━━━\u001b[0m\u001b[37m\u001b[0m \u001b[1m14s\u001b[0m 138ms/step - accuracy: 0.5531 - loss: 0.7139 - val_accuracy: 0.6535 - val_loss: 0.6090\n",
            "Epoch 2/13\n",
            "\u001b[1m48/48\u001b[0m \u001b[32m━━━━━━━━━━━━━━━━━━━━\u001b[0m\u001b[37m\u001b[0m \u001b[1m10s\u001b[0m 35ms/step - accuracy: 0.6478 - loss: 0.6167 - val_accuracy: 0.6503 - val_loss: 0.5914\n",
            "Epoch 3/13\n",
            "\u001b[1m48/48\u001b[0m \u001b[32m━━━━━━━━━━━━━━━━━━━━\u001b[0m\u001b[37m\u001b[0m \u001b[1m2s\u001b[0m 32ms/step - accuracy: 0.6629 - loss: 0.5982 - val_accuracy: 0.7057 - val_loss: 0.5509\n",
            "Epoch 4/13\n",
            "\u001b[1m48/48\u001b[0m \u001b[32m━━━━━━━━━━━━━━━━━━━━\u001b[0m\u001b[37m\u001b[0m \u001b[1m2s\u001b[0m 32ms/step - accuracy: 0.6833 - loss: 0.5839 - val_accuracy: 0.6994 - val_loss: 0.5430\n",
            "Epoch 5/13\n",
            "\u001b[1m48/48\u001b[0m \u001b[32m━━━━━━━━━━━━━━━━━━━━\u001b[0m\u001b[37m\u001b[0m \u001b[1m2s\u001b[0m 35ms/step - accuracy: 0.6907 - loss: 0.5721 - val_accuracy: 0.7294 - val_loss: 0.5196\n",
            "Epoch 6/13\n",
            "\u001b[1m48/48\u001b[0m \u001b[32m━━━━━━━━━━━━━━━━━━━━\u001b[0m\u001b[37m\u001b[0m \u001b[1m2s\u001b[0m 32ms/step - accuracy: 0.7142 - loss: 0.5520 - val_accuracy: 0.7595 - val_loss: 0.5000\n",
            "Epoch 7/13\n",
            "\u001b[1m48/48\u001b[0m \u001b[32m━━━━━━━━━━━━━━━━━━━━\u001b[0m\u001b[37m\u001b[0m \u001b[1m2s\u001b[0m 32ms/step - accuracy: 0.7306 - loss: 0.5276 - val_accuracy: 0.7832 - val_loss: 0.4745\n",
            "Epoch 8/13\n",
            "\u001b[1m48/48\u001b[0m \u001b[32m━━━━━━━━━━━━━━━━━━━━\u001b[0m\u001b[37m\u001b[0m \u001b[1m2s\u001b[0m 32ms/step - accuracy: 0.7636 - loss: 0.4948 - val_accuracy: 0.7991 - val_loss: 0.4544\n",
            "Epoch 9/13\n",
            "\u001b[1m48/48\u001b[0m \u001b[32m━━━━━━━━━━━━━━━━━━━━\u001b[0m\u001b[37m\u001b[0m \u001b[1m2s\u001b[0m 32ms/step - accuracy: 0.7779 - loss: 0.4671 - val_accuracy: 0.7627 - val_loss: 0.4611\n",
            "Epoch 10/13\n",
            "\u001b[1m48/48\u001b[0m \u001b[32m━━━━━━━━━━━━━━━━━━━━\u001b[0m\u001b[37m\u001b[0m \u001b[1m2s\u001b[0m 32ms/step - accuracy: 0.7930 - loss: 0.4394 - val_accuracy: 0.8054 - val_loss: 0.4432\n",
            "Epoch 11/13\n",
            "\u001b[1m48/48\u001b[0m \u001b[32m━━━━━━━━━━━━━━━━━━━━\u001b[0m\u001b[37m\u001b[0m \u001b[1m2s\u001b[0m 34ms/step - accuracy: 0.8099 - loss: 0.4247 - val_accuracy: 0.7975 - val_loss: 0.4234\n",
            "Epoch 12/13\n",
            "\u001b[1m48/48\u001b[0m \u001b[32m━━━━━━━━━━━━━━━━━━━━\u001b[0m\u001b[37m\u001b[0m \u001b[1m2s\u001b[0m 38ms/step - accuracy: 0.8104 - loss: 0.4004 - val_accuracy: 0.7801 - val_loss: 0.4951\n",
            "Epoch 13/13\n",
            "\u001b[1m48/48\u001b[0m \u001b[32m━━━━━━━━━━━━━━━━━━━━\u001b[0m\u001b[37m\u001b[0m \u001b[1m2s\u001b[0m 37ms/step - accuracy: 0.8236 - loss: 0.3831 - val_accuracy: 0.8370 - val_loss: 0.3790\n",
            "Treinamento concluído!\n"
          ]
        }
      ]
    },
    {
      "cell_type": "code",
      "source": [
        "acc = history.history['accuracy']\n",
        "val_acc = history.history['val_accuracy']  # Acurácia do conjunto de validação\n",
        "loss = history.history['loss']\n",
        "val_loss = history.history['val_loss']    # Perda do conjunto de validação\n",
        "\n",
        "epochs_range = range(len(acc))\n",
        "\n",
        "plt.figure(figsize=(12, 6))\n",
        "\n",
        "# --- Gráfico de Acurácia ---\n",
        "plt.subplot(1, 2, 1)\n",
        "plt.plot(epochs_range, acc, label='Acurácia de Treino')\n",
        "plt.plot(epochs_range, val_acc, label='Acurácia de Validação')\n",
        "plt.legend(loc='lower right')\n",
        "plt.title('Acurácia de Treino e Validação')\n",
        "plt.xlabel('Épocas')\n",
        "plt.ylabel('Acurácia')\n",
        "plt.grid(True)\n",
        "\n",
        "# --- Gráfico de Perda (Loss) ---\n",
        "plt.subplot(1, 2, 2)\n",
        "plt.plot(epochs_range, loss, label='Perda de Treino')\n",
        "plt.plot(epochs_range, val_loss, label='Perda de Validação')\n",
        "plt.legend(loc='upper right')\n",
        "plt.title('Perda de Treino e Validação')\n",
        "plt.xlabel('Épocas')\n",
        "plt.ylabel('Perda')\n",
        "plt.grid(True)\n",
        "\n",
        "plt.show()\n",
        "\n",
        "# Exibe os valores finais de acurácia e perda\n",
        "final_acc = acc[-1]\n",
        "final_val_acc = val_acc[-1]\n",
        "final_loss = loss[-1]\n",
        "final_val_loss = val_loss[-1]\n",
        "\n",
        "print(\"\\n--- Resultados Finais ---\")\n",
        "print(f\"Acurácia final de Treino: {final_acc:.4f}\")\n",
        "print(f\"Acurácia final de Validação: {final_val_acc:.4f}\")\n",
        "print(f\"Perda final de Treino: {final_loss:.4f}\")\n",
        "print(f\"Perda final de Validação: {final_val_loss:.4f}\")"
      ],
      "metadata": {
        "colab": {
          "base_uri": "https://localhost:8080/",
          "height": 671
        },
        "id": "sOblAXQ-4erT",
        "outputId": "8898d79a-d19d-4c93-fd16-d46b21f7d67d"
      },
      "execution_count": null,
      "outputs": [
        {
          "output_type": "display_data",
          "data": {
            "text/plain": [
              "<Figure size 1200x600 with 2 Axes>"
            ],
            "image/png": "[encoded data removed]"
          },
          "metadata": {}
        },
        {
          "output_type": "stream",
          "name": "stdout",
          "text": [
            "\n",
            "--- Resultados Finais ---\n",
            "Acurácia final de Treino: 0.8331\n",
            "Acurácia final de Validação: 0.8370\n",
            "Perda final de Treino: 0.3663\n",
            "Perda final de Validação: 0.3790\n"
          ]
        }
      ]
    },
    {
      "cell_type": "markdown",
      "source": [
        "## Predição"
      ],
      "metadata": {
        "id": "pqe53Q-r6HCE"
      }
    },
    {
      "cell_type": "code",
      "source": [
        "\n",
        "def prever_nova_imagem(caminho_imagem, model):\n",
        "\n",
        "    img = cv2.imread(caminho_imagem, cv2.IMREAD_GRAYSCALE)\n",
        "\n",
        "    if img is None:\n",
        "        print(f\"Erro: Não foi possível carregar a imagem em {caminho_imagem}\")\n",
        "        return None, None\n",
        "\n",
        "    # 2. Redimensionar para 128x128\n",
        "    img_resized = cv2.resize(img, (128, 128), interpolation=cv2.INTER_AREA)\n",
        "\n",
        "    # 3. Normalizar\n",
        "    img_normalized = img_resized.astype(\"float32\") / 255.0\n",
        "\n",
        "    # 4. Ajustar as dimensões para o modelo\n",
        "    img_tensor = np.expand_dims(img_normalized, axis=-1)\n",
        "    img_tensor = np.expand_dims(img_tensor, axis=0)\n",
        "\n",
        "    # 5. Fazer a predição\n",
        "    predictions = model.predict(img_tensor)\n",
        "\n",
        "    # Obter o índice da classe com a maior probabilidade (maior \"logit\")\n",
        "    predicted_class_index = np.argmax(predictions, axis=1)\n",
        "\n",
        "    # A função de perda SparseCategoricalCrossentropy(from_logits=True) retorna logits.\n",
        "    # Para obter as probabilidades, podemos aplicar a função softmax.\n",
        "    probabilities = tf.nn.softmax(predictions).numpy()[0]\n",
        "\n",
        "    class_names = ['empty', 'full']\n",
        "    predicted_class = class_names[predicted_class_index[0]]\n",
        "\n",
        "    return predicted_class, probabilities\n"
      ],
      "metadata": {
        "id": "xIF__W6055Dh"
      },
      "execution_count": null,
      "outputs": []
    },
    {
      "cell_type": "code",
      "source": [
        "caminho_da_nova_imagem = '/content/dental12.png'\n",
        "\n",
        "classe_predita, probabilidades = prever_nova_imagem(caminho_da_nova_imagem, model)\n",
        "\n",
        "if classe_predita:\n",
        "    print(\"\\n--- Resultado da Predição ---\")\n",
        "    print(f\"A imagem é provavelmente: {classe_predita}\")\n",
        "    print(f\"Probabilidade de ser 'empty': {probabilidades[0]:.2f}\")\n",
        "    print(f\"Probabilidade de ser 'full': {probabilidades[1]:.2f}\")"
      ],
      "metadata": {
        "id": "ovGXJnKXaWM5"
      },
      "execution_count": null,
      "outputs": []
    },
    {
      "cell_type": "markdown",
      "source": [
        "## 1ºª Avaliação das Métricas"
      ],
      "metadata": {
        "id": "1AjtSxNtY7PV"
      }
    },
    {
      "cell_type": "code",
      "source": [
        "from sklearn.metrics import confusion_matrix\n",
        "import seaborn as sns\n",
        "import matplotlib.pyplot as plt"
      ],
      "metadata": {
        "id": "WMcl-WRYab46"
      },
      "execution_count": null,
      "outputs": []
    },
    {
      "cell_type": "code",
      "source": [
        "y_true = []\n",
        "y_pred_logits = []\n",
        "\n",
        "# Obtendo rótulos e previsões\n",
        "for images, labels in test_ds:\n",
        "    # rótulos reais\n",
        "    y_true.extend(labels.numpy())\n",
        "\n",
        "    predictions = model.predict(images, verbose=0)\n",
        "    y_pred_logits.extend(predictions)\n",
        "\n",
        "y_pred = np.argmax(y_pred_logits, axis=1)\n",
        "\n",
        "# matriz confusão\n",
        "cm = confusion_matrix(y_true, y_pred)\n",
        "tn, fp, fn, tp = cm.ravel()\n",
        "\n",
        "# acurácia, precisão e recall\n",
        "accuracy = (tp + tn) / (tp + tn + fp + fn)\n",
        "precision = tp / (tp + fp)\n",
        "recall = tp / (tp + fn)"
      ],
      "metadata": {
        "id": "Rw5Mry2qKfUG"
      },
      "execution_count": null,
      "outputs": []
    },
    {
      "cell_type": "code",
      "source": [
        "class_names = ['empty', 'full']\n",
        "\n",
        "plt.figure(figsize=(8, 6))\n",
        "sns.heatmap(cm,\n",
        "            annot=True,          # Mostra os valores na matriz\n",
        "            fmt='d',             # Formato dos números (inteiro)\n",
        "            cmap='Blues',        # Mapa de cores\n",
        "            xticklabels=class_names,  # Rótulos do eixo X (Previsões)\n",
        "            yticklabels=class_names)  # Rótulos do eixo Y (Valores Reais)\n",
        "\n",
        "plt.xlabel('Previsões do Modelo')\n",
        "plt.ylabel('Valores Reais')\n",
        "plt.title('Matriz Confusão')\n",
        "plt.show()\n",
        "\n",
        "print(\"\\n--- Resultados Matriz Confusão ---\")\n",
        "print(f\"Verdadeiros Positivos (VP - Previsão 'full' correta): {tp}\")\n",
        "print(f\"Verdadeiros Negativos (VN - Previsão 'empty' correta): {tn}\")\n",
        "print(f\"Falsos Positivos (FP - Previsão 'full' incorreta): {fp}\")\n",
        "print(f\"Falsos Negativos (FN - Previsão 'empty' incorreta): {fn}\")\n",
        "\n",
        "print(\"\\n--- Métricas de Avaliação ---\")\n",
        "print(f\"Acurácia: {accuracy:.4f}\")\n",
        "print(f\"Precisão (para a classe 'full'): {precision:.4f}\")\n",
        "print(f\"Recall (para a classe 'full'): {recall:.4f}\")"
      ],
      "metadata": {
        "colab": {
          "base_uri": "https://localhost:8080/",
          "height": 755
        },
        "id": "-04TL0hIc2Uf",
        "outputId": "ebb80bbe-f5a0-4610-cfdd-3b44caccb6ee"
      },
      "execution_count": null,
      "outputs": [
        {
          "output_type": "display_data",
          "data": {
            "text/plain": [
              "<Figure size 800x600 with 2 Axes>"
            ],
            "image/png": "[encoded data removed]"
          },
          "metadata": {}
        },
        {
          "output_type": "stream",
          "name": "stdout",
          "text": [
            "\n",
            "--- Resultados Matriz Confusão ---\n",
            "Verdadeiros Positivos (VP - Previsão 'full' correta): 157\n",
            "Verdadeiros Negativos (VN - Previsão 'empty' correta): 158\n",
            "Falsos Positivos (FP - Previsão 'full' incorreta): 37\n",
            "Falsos Negativos (FN - Previsão 'empty' incorreta): 32\n",
            "\n",
            "--- Métricas de Avaliação ---\n",
            "Acurácia: 0.8203\n",
            "Precisão (para a classe 'full'): 0.8093\n",
            "Recall (para a classe 'full'): 0.8307\n"
          ]
        }
      ]
    },
    {
      "cell_type": "code",
      "source": [],
      "metadata": {
        "id": "ePjnF9o9hC5h"
      },
      "execution_count": null,
      "outputs": []
    },
    {
      "cell_type": "code",
      "source": [],
      "metadata": {
        "id": "OwidYSqtB1Td"
      },
      "execution_count": null,
      "outputs": []
    },
    {
      "cell_type": "markdown",
      "source": [
        "## Aplicando Grid Search"
      ],
      "metadata": {
        "id": "7On1aXvAhv4b"
      }
    },
    {
      "cell_type": "code",
      "source": [
        "learning_rates = [1e-2, 1e-3, 1e-4]\n",
        "dropout_rates = [0.25, 0.4, 0.5]\n",
        "epochs_num = [8, 10, 12]\n",
        "\n",
        "# Armazena os resultados para análise posterior\n",
        "results = []\n",
        "best_val_accuracy = 0\n",
        "best_hyperparams = {}"
      ],
      "metadata": {
        "id": "8ld_KAd1h9pt"
      },
      "execution_count": null,
      "outputs": []
    },
    {
      "cell_type": "code",
      "source": [
        "def create_model(learning_rate, dropout_rate):\n",
        "    model = keras.Sequential([\n",
        "        layers.Input(shape=(128, 128, 1)),\n",
        "        layers.Conv2D(32, 3, activation='relu'),\n",
        "        layers.MaxPooling2D(),\n",
        "        layers.Conv2D(64, 3, activation='relu'),\n",
        "        layers.MaxPooling2D(),\n",
        "        layers.Conv2D(128, 3, activation='relu'),\n",
        "        layers.MaxPooling2D(),\n",
        "        layers.Flatten(),\n",
        "        layers.Dense(128, activation='relu'),\n",
        "        layers.Dropout(dropout_rate),\n",
        "        layers.Dense(num_classes)\n",
        "    ])\n",
        "\n",
        "    optimizer = tf.keras.optimizers.Adam(learning_rate=learning_rate)\n",
        "    model.compile(\n",
        "        optimizer=optimizer,\n",
        "        loss=tf.keras.losses.SparseCategoricalCrossentropy(from_logits=True),\n",
        "        metrics=['accuracy']\n",
        "    )\n",
        "    return model"
      ],
      "metadata": {
        "id": "jbliYiW4hzsf"
      },
      "execution_count": null,
      "outputs": []
    },
    {
      "cell_type": "code",
      "source": [
        "print(\"Iniciando o Grid Search...\")\n",
        "for lr in learning_rates:\n",
        "    for dr in dropout_rates:\n",
        "        for epochs in epochs_num:\n",
        "            print(f\"\\n--- Testando: lr={lr}, dropout_rate={dr}, epochs_num={epochs} ---\")\n",
        "\n",
        "            # Construir o modelo com a combinação atual\n",
        "            model = create_model(learning_rate=lr, dropout_rate=dr)\n",
        "\n",
        "            # Treinar o modelo\n",
        "            history = model.fit(\n",
        "                train_ds,\n",
        "                validation_data=val_ds,\n",
        "                epochs=epochs,\n",
        "                verbose=0\n",
        "            )\n",
        "\n",
        "            # desempenho na validação\n",
        "            val_acc = history.history['val_accuracy'][-1]\n",
        "            results.append({'lr': lr, 'dropout_rate': dr, 'epochs': epochs, 'val_accuracy': val_acc})\n",
        "\n",
        "            print(f\"Acurácia de validação: {val_acc:.4f}\")\n",
        "\n",
        "print(\"\\n--- Grid Search Concluído ---\")"
      ],
      "metadata": {
        "colab": {
          "base_uri": "https://localhost:8080/"
        },
        "id": "hhzmZi8oiagi",
        "outputId": "fab8dcfb-2918-46b2-c25c-20aa55e372ea"
      },
      "execution_count": null,
      "outputs": [
        {
          "output_type": "stream",
          "name": "stdout",
          "text": [
            "Iniciando o Grid Search...\n",
            "\n",
            "--- Testando: lr=0.001, dropout_rate=0.25, epochs_num=8 ---\n",
            "Acurácia de validação: 0.7911\n",
            "\n",
            "--- Testando: lr=0.001, dropout_rate=0.25, epochs_num=10 ---\n",
            "Acurácia de validação: 0.8212\n",
            "\n",
            "--- Testando: lr=0.001, dropout_rate=0.25, epochs_num=12 ---\n",
            "Acurácia de validação: 0.8402\n",
            "\n",
            "--- Testando: lr=0.001, dropout_rate=0.4, epochs_num=8 ---\n",
            "Acurácia de validação: 0.7959\n",
            "\n",
            "--- Testando: lr=0.001, dropout_rate=0.4, epochs_num=10 ---\n",
            "Acurácia de validação: 0.8196\n",
            "\n",
            "--- Testando: lr=0.001, dropout_rate=0.4, epochs_num=12 ---\n",
            "Acurácia de validação: 0.8528\n",
            "\n",
            "--- Testando: lr=0.001, dropout_rate=0.5, epochs_num=8 ---\n",
            "Acurácia de validação: 0.7437\n",
            "\n",
            "--- Testando: lr=0.001, dropout_rate=0.5, epochs_num=10 ---\n",
            "Acurácia de validação: 0.8022\n",
            "\n",
            "--- Testando: lr=0.001, dropout_rate=0.5, epochs_num=12 ---\n",
            "Acurácia de validação: 0.8212\n",
            "\n",
            "--- Testando: lr=0.0001, dropout_rate=0.25, epochs_num=8 ---\n",
            "Acurácia de validação: 0.7516\n",
            "\n",
            "--- Testando: lr=0.0001, dropout_rate=0.25, epochs_num=10 ---\n",
            "Acurácia de validação: 0.7722\n",
            "\n",
            "--- Testando: lr=0.0001, dropout_rate=0.25, epochs_num=12 ---\n",
            "Acurácia de validação: 0.7911\n",
            "\n",
            "--- Testando: lr=0.0001, dropout_rate=0.4, epochs_num=8 ---\n",
            "Acurácia de validação: 0.7405\n",
            "\n",
            "--- Testando: lr=0.0001, dropout_rate=0.4, epochs_num=10 ---\n",
            "Acurácia de validação: 0.7706\n",
            "\n",
            "--- Testando: lr=0.0001, dropout_rate=0.4, epochs_num=12 ---\n",
            "Acurácia de validação: 0.7832\n",
            "\n",
            "--- Testando: lr=0.0001, dropout_rate=0.5, epochs_num=8 ---\n",
            "Acurácia de validação: 0.7516\n",
            "\n",
            "--- Testando: lr=0.0001, dropout_rate=0.5, epochs_num=10 ---\n",
            "Acurácia de validação: 0.7706\n",
            "\n",
            "--- Testando: lr=0.0001, dropout_rate=0.5, epochs_num=12 ---\n",
            "Acurácia de validação: 0.7769\n",
            "\n",
            "--- Grid Search Concluído ---\n"
          ]
        }
      ]
    },
    {
      "cell_type": "markdown",
      "source": [
        "Selecionando as 4 melhores combinações de hiperparêmtros serão feitos as avaliações baseadas nas métricas de precisão e recall\n",
        "\n",
        "1. lr:1e-3   \n",
        "dropout:40%  \n",
        "epochs:12  \n",
        "---\n",
        "2. lr:1e-3  \n",
        "dropout:25%  \n",
        "epochs:12  \n",
        "---\n",
        "3. lr:1e-3  \n",
        "dropout:25%  \n",
        "epochs:10\n",
        "---\n",
        "4. lr:1e-3  \n",
        "dropout:50%  \n",
        "epochs:12"
      ],
      "metadata": {
        "id": "V08KZbzUrlfx"
      }
    },
    {
      "cell_type": "code",
      "source": [
        "combinacoes_selecionadas = [\n",
        "    {'label': 'Modelo 1', 'lr': 1e-3, 'dr': 0.2},\n",
        "    {'label': 'Modelo 2', 'lr': 1e-3, 'dr': 0.3},\n",
        "    {'label': 'Modelo 3', 'lr': 1e-3, 'dr': 0.4},\n",
        "    {'label': 'Modelo 4', 'lr': 1e-3, 'dr': 0.5}\n",
        "]"
      ],
      "metadata": {
        "id": "LUnkkJryrzWi"
      },
      "execution_count": null,
      "outputs": []
    },
    {
      "cell_type": "code",
      "source": [
        "from sklearn.metrics import confusion_matrix"
      ],
      "metadata": {
        "id": "bwqxkUI50G73"
      },
      "execution_count": null,
      "outputs": []
    },
    {
      "cell_type": "code",
      "source": [
        "def avalia_modelo(model, test_ds, label, lr, dr):\n",
        "\n",
        "    print(\"\\n-------------------------------------\")\n",
        "    print(f\"\\n {label}:\")\n",
        "    print(f\"\\n lr={lr}, dropout={dr}\")\n",
        "\n",
        "    epochs_num = [10, 11, 12, 13]\n",
        "\n",
        "    for epochs in epochs_num:\n",
        "        print(f\"\\nTestando: epochs={epochs}\")\n",
        "\n",
        "        # treinamento\n",
        "        model.fit(\n",
        "            train_ds,\n",
        "            validation_data=val_ds,\n",
        "            epochs=epochs,\n",
        "            verbose=0\n",
        "        )\n",
        "\n",
        "        y_true = []\n",
        "        y_pred_logits = []\n",
        "        for images, labels in test_ds:\n",
        "            y_true.extend(labels.numpy())\n",
        "            predictions = model.predict(images, verbose=0)\n",
        "            y_pred_logits.extend(predictions)\n",
        "\n",
        "        y_pred = np.argmax(y_pred_logits, axis=1)\n",
        "\n",
        "        cm = confusion_matrix(y_true, y_pred)\n",
        "        tn, fp, fn, tp = cm.ravel()\n",
        "\n",
        "        # métricas\n",
        "        accuracy = (tp + tn) / (tp + tn + fp + fn) if (tp + tn + fp + fn) > 0 else 0\n",
        "        precision = tp / (tp + fp) if (tp + fp) > 0 else 0\n",
        "        recall = tp / (tp + fn) if (tp + fn) > 0 else 0\n",
        "\n",
        "        print(\"\\n--- Resultados \")\n",
        "        print(f\"Acurácia: {accuracy:.4f}\")\n",
        "        print(f\"Precisão: {precision:.4f}\")\n",
        "        print(f\"Recall: {recall:.4f}\")\n",
        "        print(\"\\nMatriz de Confusão:\\n\", cm)\n"
      ],
      "metadata": {
        "id": "IB11rJQEtir5"
      },
      "execution_count": null,
      "outputs": []
    },
    {
      "cell_type": "code",
      "source": [
        "for params in combinacoes_selecionadas:\n",
        "    modelo = create_model(params['lr'], params['dr'])\n",
        "\n",
        "    # Avalie o modelo\n",
        "    avalia_modelo(modelo, test_ds, params['label'], params['lr'], params['dr'])"
      ],
      "metadata": {
        "colab": {
          "base_uri": "https://localhost:8080/"
        },
        "id": "e6X762ylumQF",
        "outputId": "4db3289f-d813-4982-ed21-5fd38e60d461"
      },
      "execution_count": null,
      "outputs": [
        {
          "output_type": "stream",
          "name": "stdout",
          "text": [
            "\n",
            "-------------------------------------\n",
            "\n",
            " Modelo 1:\n",
            "\n",
            " lr=0.001, dropout=0.4\n",
            "\n",
            "Testando: epochs=10\n",
            "\n",
            "--- Resultados \n",
            "Acurácia: 0.7734\n",
            "Precisão: 0.7383\n",
            "Recall: 0.8360\n",
            "\n",
            "Matriz de Confusão:\n",
            " [[139  56]\n",
            " [ 31 158]]\n",
            "\n",
            "Testando: epochs=11\n",
            "\n",
            "--- Resultados \n",
            "Acurácia: 0.8307\n",
            "Precisão: 0.8924\n",
            "Recall: 0.7460\n",
            "\n",
            "Matriz de Confusão:\n",
            " [[178  17]\n",
            " [ 48 141]]\n",
            "\n",
            "Testando: epochs=12\n",
            "\n",
            "--- Resultados \n",
            "Acurácia: 0.8411\n",
            "Precisão: 0.8721\n",
            "Recall: 0.7937\n",
            "\n",
            "Matriz de Confusão:\n",
            " [[173  22]\n",
            " [ 39 150]]\n",
            "\n",
            "Testando: epochs=13\n",
            "\n",
            "--- Resultados \n",
            "Acurácia: 0.8672\n",
            "Precisão: 0.8557\n",
            "Recall: 0.8783\n",
            "\n",
            "Matriz de Confusão:\n",
            " [[167  28]\n",
            " [ 23 166]]\n",
            "\n",
            "-------------------------------------\n",
            "\n",
            " Modelo 2:\n",
            "\n",
            " lr=0.001, dropout=0.25\n",
            "\n",
            "Testando: epochs=10\n",
            "\n",
            "--- Resultados \n",
            "Acurácia: 0.7865\n",
            "Precisão: 0.8365\n",
            "Recall: 0.7037\n",
            "\n",
            "Matriz de Confusão:\n",
            " [[169  26]\n",
            " [ 56 133]]\n",
            "\n",
            "Testando: epochs=11\n",
            "\n",
            "--- Resultados \n",
            "Acurácia: 0.8411\n",
            "Precisão: 0.8478\n",
            "Recall: 0.8254\n",
            "\n",
            "Matriz de Confusão:\n",
            " [[167  28]\n",
            " [ 33 156]]\n",
            "\n",
            "Testando: epochs=12\n",
            "\n",
            "--- Resultados \n",
            "Acurácia: 0.8255\n",
            "Precisão: 0.8547\n",
            "Recall: 0.7778\n",
            "\n",
            "Matriz de Confusão:\n",
            " [[170  25]\n",
            " [ 42 147]]\n",
            "\n",
            "Testando: epochs=13\n",
            "\n",
            "--- Resultados \n",
            "Acurácia: 0.8307\n",
            "Precisão: 0.8875\n",
            "Recall: 0.7513\n",
            "\n",
            "Matriz de Confusão:\n",
            " [[177  18]\n",
            " [ 47 142]]\n",
            "\n",
            "-------------------------------------\n",
            "\n",
            " Modelo 3:\n",
            "\n",
            " lr=0.001, dropout=0.25\n",
            "\n",
            "Testando: epochs=10\n",
            "\n",
            "--- Resultados \n",
            "Acurácia: 0.7812\n",
            "Precisão: 0.8221\n",
            "Recall: 0.7090\n",
            "\n",
            "Matriz de Confusão:\n",
            " [[166  29]\n",
            " [ 55 134]]\n",
            "\n",
            "Testando: epochs=11\n",
            "\n",
            "--- Resultados \n",
            "Acurácia: 0.8177\n",
            "Precisão: 0.7960\n",
            "Recall: 0.8466\n",
            "\n",
            "Matriz de Confusão:\n",
            " [[154  41]\n",
            " [ 29 160]]\n",
            "\n",
            "Testando: epochs=12\n",
            "\n",
            "--- Resultados \n",
            "Acurácia: 0.8177\n",
            "Precisão: 0.8324\n",
            "Recall: 0.7884\n",
            "\n",
            "Matriz de Confusão:\n",
            " [[165  30]\n",
            " [ 40 149]]\n",
            "\n",
            "Testando: epochs=13\n",
            "\n",
            "--- Resultados \n",
            "Acurácia: 0.8281\n",
            "Precisão: 0.8475\n",
            "Recall: 0.7937\n",
            "\n",
            "Matriz de Confusão:\n",
            " [[168  27]\n",
            " [ 39 150]]\n",
            "\n",
            "-------------------------------------\n",
            "\n",
            " Modelo 4:\n",
            "\n",
            " lr=0.001, dropout=0.5\n",
            "\n",
            "Testando: epochs=10\n",
            "\n",
            "--- Resultados \n",
            "Acurácia: 0.7448\n",
            "Precisão: 0.8957\n",
            "Recall: 0.5450\n",
            "\n",
            "Matriz de Confusão:\n",
            " [[183  12]\n",
            " [ 86 103]]\n",
            "\n",
            "Testando: epochs=11\n",
            "\n",
            "--- Resultados \n",
            "Acurácia: 0.8177\n",
            "Precisão: 0.7902\n",
            "Recall: 0.8571\n",
            "\n",
            "Matriz de Confusão:\n",
            " [[152  43]\n",
            " [ 27 162]]\n",
            "\n",
            "Testando: epochs=12\n",
            "\n",
            "--- Resultados \n",
            "Acurácia: 0.8229\n",
            "Precisão: 0.8306\n",
            "Recall: 0.8042\n",
            "\n",
            "Matriz de Confusão:\n",
            " [[164  31]\n",
            " [ 37 152]]\n",
            "\n",
            "Testando: epochs=13\n",
            "\n",
            "--- Resultados \n",
            "Acurácia: 0.8411\n",
            "Precisão: 0.9000\n",
            "Recall: 0.7619\n",
            "\n",
            "Matriz de Confusão:\n",
            " [[179  16]\n",
            " [ 45 144]]\n"
          ]
        }
      ]
    },
    {
      "cell_type": "code",
      "source": [],
      "metadata": {
        "id": "omtFr_5SvnwU"
      },
      "execution_count": null,
      "outputs": []
    },
    {
      "cell_type": "markdown",
      "source": [
        "## Configurando o modelo final"
      ],
      "metadata": {
        "id": "vnNVdasF6qEZ"
      }
    },
    {
      "cell_type": "markdown",
      "source": [
        "### Modelo com Dropout"
      ],
      "metadata": {
        "id": "JV6TDBQT6to-"
      }
    },
    {
      "cell_type": "code",
      "source": [
        "model = keras.Sequential([\n",
        "    layers.Input(shape=(128, 128, 1)),\n",
        "\n",
        "    layers.Conv2D(32, 3, activation='relu'),\n",
        "    layers.MaxPooling2D(),\n",
        "    layers.Conv2D(64, 3, activation='relu'),\n",
        "    layers.MaxPooling2D(),\n",
        "    layers.Conv2D(128, 3, activation='relu'),\n",
        "    layers.MaxPooling2D(),\n",
        "\n",
        "    layers.Flatten(),\n",
        "    layers.Dense(128, activation='relu'),\n",
        "\n",
        "    # camada dropout\n",
        "    layers.Dropout(0.4),\n",
        "\n",
        "    layers.Dense(num_classes)\n",
        "])"
      ],
      "metadata": {
        "id": "BBSa4xBy6to_"
      },
      "execution_count": 14,
      "outputs": []
    },
    {
      "cell_type": "code",
      "source": [
        "model.summary()"
      ],
      "metadata": {
        "colab": {
          "base_uri": "https://localhost:8080/",
          "height": 449
        },
        "outputId": "7a3ea483-67f8-4559-b693-b61cc0701a0a",
        "id": "WLfYtZA-6tpA"
      },
      "execution_count": 15,
      "outputs": [
        {
          "output_type": "display_data",
          "data": {
            "text/plain": [
              "\u001b[1mModel: \"sequential_1\"\u001b[0m\n"
            ],
            "text/html": [
              "<pre style=\"white-space:pre;overflow-x:auto;line-height:normal;font-family:Menlo,'DejaVu Sans Mono',consolas,'Courier New',monospace\"><span style=\"font-weight: bold\">Model: \"sequential_1\"</span>\n",
              "</pre>\n"
            ]
          },
          "metadata": {}
        },
        {
          "output_type": "display_data",
          "data": {
            "text/plain": [
              "┏━━━━━━━━━━━━━━━━━━━━━━━━━━━━━━━━━┳━━━━━━━━━━━━━━━━━━━━━━━━┳━━━━━━━━━━━━━━━┓\n",
              "┃\u001b[1m \u001b[0m\u001b[1mLayer (type)                   \u001b[0m\u001b[1m \u001b[0m┃\u001b[1m \u001b[0m\u001b[1mOutput Shape          \u001b[0m\u001b[1m \u001b[0m┃\u001b[1m \u001b[0m\u001b[1m      Param #\u001b[0m\u001b[1m \u001b[0m┃\n",
              "┡━━━━━━━━━━━━━━━━━━━━━━━━━━━━━━━━━╇━━━━━━━━━━━━━━━━━━━━━━━━╇━━━━━━━━━━━━━━━┩\n",
              "│ conv2d (\u001b[38;5;33mConv2D\u001b[0m)                 │ (\u001b[38;5;45mNone\u001b[0m, \u001b[38;5;34m126\u001b[0m, \u001b[38;5;34m126\u001b[0m, \u001b[38;5;34m32\u001b[0m)   │           \u001b[38;5;34m320\u001b[0m │\n",
              "├─────────────────────────────────┼────────────────────────┼───────────────┤\n",
              "│ max_pooling2d (\u001b[38;5;33mMaxPooling2D\u001b[0m)    │ (\u001b[38;5;45mNone\u001b[0m, \u001b[38;5;34m63\u001b[0m, \u001b[38;5;34m63\u001b[0m, \u001b[38;5;34m32\u001b[0m)     │             \u001b[38;5;34m0\u001b[0m │\n",
              "├─────────────────────────────────┼────────────────────────┼───────────────┤\n",
              "│ conv2d_1 (\u001b[38;5;33mConv2D\u001b[0m)               │ (\u001b[38;5;45mNone\u001b[0m, \u001b[38;5;34m61\u001b[0m, \u001b[38;5;34m61\u001b[0m, \u001b[38;5;34m64\u001b[0m)     │        \u001b[38;5;34m18,496\u001b[0m │\n",
              "├─────────────────────────────────┼────────────────────────┼───────────────┤\n",
              "│ max_pooling2d_1 (\u001b[38;5;33mMaxPooling2D\u001b[0m)  │ (\u001b[38;5;45mNone\u001b[0m, \u001b[38;5;34m30\u001b[0m, \u001b[38;5;34m30\u001b[0m, \u001b[38;5;34m64\u001b[0m)     │             \u001b[38;5;34m0\u001b[0m │\n",
              "├─────────────────────────────────┼────────────────────────┼───────────────┤\n",
              "│ conv2d_2 (\u001b[38;5;33mConv2D\u001b[0m)               │ (\u001b[38;5;45mNone\u001b[0m, \u001b[38;5;34m28\u001b[0m, \u001b[38;5;34m28\u001b[0m, \u001b[38;5;34m128\u001b[0m)    │        \u001b[38;5;34m73,856\u001b[0m │\n",
              "├─────────────────────────────────┼────────────────────────┼───────────────┤\n",
              "│ max_pooling2d_2 (\u001b[38;5;33mMaxPooling2D\u001b[0m)  │ (\u001b[38;5;45mNone\u001b[0m, \u001b[38;5;34m14\u001b[0m, \u001b[38;5;34m14\u001b[0m, \u001b[38;5;34m128\u001b[0m)    │             \u001b[38;5;34m0\u001b[0m │\n",
              "├─────────────────────────────────┼────────────────────────┼───────────────┤\n",
              "│ flatten (\u001b[38;5;33mFlatten\u001b[0m)               │ (\u001b[38;5;45mNone\u001b[0m, \u001b[38;5;34m25088\u001b[0m)          │             \u001b[38;5;34m0\u001b[0m │\n",
              "├─────────────────────────────────┼────────────────────────┼───────────────┤\n",
              "│ dense (\u001b[38;5;33mDense\u001b[0m)                   │ (\u001b[38;5;45mNone\u001b[0m, \u001b[38;5;34m128\u001b[0m)            │     \u001b[38;5;34m3,211,392\u001b[0m │\n",
              "├─────────────────────────────────┼────────────────────────┼───────────────┤\n",
              "│ dropout (\u001b[38;5;33mDropout\u001b[0m)               │ (\u001b[38;5;45mNone\u001b[0m, \u001b[38;5;34m128\u001b[0m)            │             \u001b[38;5;34m0\u001b[0m │\n",
              "├─────────────────────────────────┼────────────────────────┼───────────────┤\n",
              "│ dense_1 (\u001b[38;5;33mDense\u001b[0m)                 │ (\u001b[38;5;45mNone\u001b[0m, \u001b[38;5;34m2\u001b[0m)              │           \u001b[38;5;34m258\u001b[0m │\n",
              "└─────────────────────────────────┴────────────────────────┴───────────────┘\n"
            ],
            "text/html": [
              "<pre style=\"white-space:pre;overflow-x:auto;line-height:normal;font-family:Menlo,'DejaVu Sans Mono',consolas,'Courier New',monospace\">┏━━━━━━━━━━━━━━━━━━━━━━━━━━━━━━━━━┳━━━━━━━━━━━━━━━━━━━━━━━━┳━━━━━━━━━━━━━━━┓\n",
              "┃<span style=\"font-weight: bold\"> Layer (type)                    </span>┃<span style=\"font-weight: bold\"> Output Shape           </span>┃<span style=\"font-weight: bold\">       Param # </span>┃\n",
              "┡━━━━━━━━━━━━━━━━━━━━━━━━━━━━━━━━━╇━━━━━━━━━━━━━━━━━━━━━━━━╇━━━━━━━━━━━━━━━┩\n",
              "│ conv2d (<span style=\"color: #0087ff; text-decoration-color: #0087ff\">Conv2D</span>)                 │ (<span style=\"color: #00d7ff; text-decoration-color: #00d7ff\">None</span>, <span style=\"color: #00af00; text-decoration-color: #00af00\">126</span>, <span style=\"color: #00af00; text-decoration-color: #00af00\">126</span>, <span style=\"color: #00af00; text-decoration-color: #00af00\">32</span>)   │           <span style=\"color: #00af00; text-decoration-color: #00af00\">320</span> │\n",
              "├─────────────────────────────────┼────────────────────────┼───────────────┤\n",
              "│ max_pooling2d (<span style=\"color: #0087ff; text-decoration-color: #0087ff\">MaxPooling2D</span>)    │ (<span style=\"color: #00d7ff; text-decoration-color: #00d7ff\">None</span>, <span style=\"color: #00af00; text-decoration-color: #00af00\">63</span>, <span style=\"color: #00af00; text-decoration-color: #00af00\">63</span>, <span style=\"color: #00af00; text-decoration-color: #00af00\">32</span>)     │             <span style=\"color: #00af00; text-decoration-color: #00af00\">0</span> │\n",
              "├─────────────────────────────────┼────────────────────────┼───────────────┤\n",
              "│ conv2d_1 (<span style=\"color: #0087ff; text-decoration-color: #0087ff\">Conv2D</span>)               │ (<span style=\"color: #00d7ff; text-decoration-color: #00d7ff\">None</span>, <span style=\"color: #00af00; text-decoration-color: #00af00\">61</span>, <span style=\"color: #00af00; text-decoration-color: #00af00\">61</span>, <span style=\"color: #00af00; text-decoration-color: #00af00\">64</span>)     │        <span style=\"color: #00af00; text-decoration-color: #00af00\">18,496</span> │\n",
              "├─────────────────────────────────┼────────────────────────┼───────────────┤\n",
              "│ max_pooling2d_1 (<span style=\"color: #0087ff; text-decoration-color: #0087ff\">MaxPooling2D</span>)  │ (<span style=\"color: #00d7ff; text-decoration-color: #00d7ff\">None</span>, <span style=\"color: #00af00; text-decoration-color: #00af00\">30</span>, <span style=\"color: #00af00; text-decoration-color: #00af00\">30</span>, <span style=\"color: #00af00; text-decoration-color: #00af00\">64</span>)     │             <span style=\"color: #00af00; text-decoration-color: #00af00\">0</span> │\n",
              "├─────────────────────────────────┼────────────────────────┼───────────────┤\n",
              "│ conv2d_2 (<span style=\"color: #0087ff; text-decoration-color: #0087ff\">Conv2D</span>)               │ (<span style=\"color: #00d7ff; text-decoration-color: #00d7ff\">None</span>, <span style=\"color: #00af00; text-decoration-color: #00af00\">28</span>, <span style=\"color: #00af00; text-decoration-color: #00af00\">28</span>, <span style=\"color: #00af00; text-decoration-color: #00af00\">128</span>)    │        <span style=\"color: #00af00; text-decoration-color: #00af00\">73,856</span> │\n",
              "├─────────────────────────────────┼────────────────────────┼───────────────┤\n",
              "│ max_pooling2d_2 (<span style=\"color: #0087ff; text-decoration-color: #0087ff\">MaxPooling2D</span>)  │ (<span style=\"color: #00d7ff; text-decoration-color: #00d7ff\">None</span>, <span style=\"color: #00af00; text-decoration-color: #00af00\">14</span>, <span style=\"color: #00af00; text-decoration-color: #00af00\">14</span>, <span style=\"color: #00af00; text-decoration-color: #00af00\">128</span>)    │             <span style=\"color: #00af00; text-decoration-color: #00af00\">0</span> │\n",
              "├─────────────────────────────────┼────────────────────────┼───────────────┤\n",
              "│ flatten (<span style=\"color: #0087ff; text-decoration-color: #0087ff\">Flatten</span>)               │ (<span style=\"color: #00d7ff; text-decoration-color: #00d7ff\">None</span>, <span style=\"color: #00af00; text-decoration-color: #00af00\">25088</span>)          │             <span style=\"color: #00af00; text-decoration-color: #00af00\">0</span> │\n",
              "├─────────────────────────────────┼────────────────────────┼───────────────┤\n",
              "│ dense (<span style=\"color: #0087ff; text-decoration-color: #0087ff\">Dense</span>)                   │ (<span style=\"color: #00d7ff; text-decoration-color: #00d7ff\">None</span>, <span style=\"color: #00af00; text-decoration-color: #00af00\">128</span>)            │     <span style=\"color: #00af00; text-decoration-color: #00af00\">3,211,392</span> │\n",
              "├─────────────────────────────────┼────────────────────────┼───────────────┤\n",
              "│ dropout (<span style=\"color: #0087ff; text-decoration-color: #0087ff\">Dropout</span>)               │ (<span style=\"color: #00d7ff; text-decoration-color: #00d7ff\">None</span>, <span style=\"color: #00af00; text-decoration-color: #00af00\">128</span>)            │             <span style=\"color: #00af00; text-decoration-color: #00af00\">0</span> │\n",
              "├─────────────────────────────────┼────────────────────────┼───────────────┤\n",
              "│ dense_1 (<span style=\"color: #0087ff; text-decoration-color: #0087ff\">Dense</span>)                 │ (<span style=\"color: #00d7ff; text-decoration-color: #00d7ff\">None</span>, <span style=\"color: #00af00; text-decoration-color: #00af00\">2</span>)              │           <span style=\"color: #00af00; text-decoration-color: #00af00\">258</span> │\n",
              "└─────────────────────────────────┴────────────────────────┴───────────────┘\n",
              "</pre>\n"
            ]
          },
          "metadata": {}
        },
        {
          "output_type": "display_data",
          "data": {
            "text/plain": [
              "\u001b[1m Total params: \u001b[0m\u001b[38;5;34m3,304,322\u001b[0m (12.60 MB)\n"
            ],
            "text/html": [
              "<pre style=\"white-space:pre;overflow-x:auto;line-height:normal;font-family:Menlo,'DejaVu Sans Mono',consolas,'Courier New',monospace\"><span style=\"font-weight: bold\"> Total params: </span><span style=\"color: #00af00; text-decoration-color: #00af00\">3,304,322</span> (12.60 MB)\n",
              "</pre>\n"
            ]
          },
          "metadata": {}
        },
        {
          "output_type": "display_data",
          "data": {
            "text/plain": [
              "\u001b[1m Trainable params: \u001b[0m\u001b[38;5;34m3,304,322\u001b[0m (12.60 MB)\n"
            ],
            "text/html": [
              "<pre style=\"white-space:pre;overflow-x:auto;line-height:normal;font-family:Menlo,'DejaVu Sans Mono',consolas,'Courier New',monospace\"><span style=\"font-weight: bold\"> Trainable params: </span><span style=\"color: #00af00; text-decoration-color: #00af00\">3,304,322</span> (12.60 MB)\n",
              "</pre>\n"
            ]
          },
          "metadata": {}
        },
        {
          "output_type": "display_data",
          "data": {
            "text/plain": [
              "\u001b[1m Non-trainable params: \u001b[0m\u001b[38;5;34m0\u001b[0m (0.00 B)\n"
            ],
            "text/html": [
              "<pre style=\"white-space:pre;overflow-x:auto;line-height:normal;font-family:Menlo,'DejaVu Sans Mono',consolas,'Courier New',monospace\"><span style=\"font-weight: bold\"> Non-trainable params: </span><span style=\"color: #00af00; text-decoration-color: #00af00\">0</span> (0.00 B)\n",
              "</pre>\n"
            ]
          },
          "metadata": {}
        }
      ]
    },
    {
      "cell_type": "code",
      "source": [
        "optimizer = tf.keras.optimizers.Adam(learning_rate=1e-3)\n",
        "\n",
        "model.compile(\n",
        "    optimizer=optimizer,\n",
        "    loss=tf.keras.losses.SparseCategoricalCrossentropy(from_logits=True),\n",
        "    metrics=['accuracy']\n",
        ")"
      ],
      "metadata": {
        "id": "xxKRBtRd6tpC"
      },
      "execution_count": 16,
      "outputs": []
    },
    {
      "cell_type": "markdown",
      "source": [
        "### Treino"
      ],
      "metadata": {
        "id": "C7LBmeNP6tpA"
      }
    },
    {
      "cell_type": "code",
      "source": [
        "epochs = 13\n",
        "\n",
        "history = model.fit(\n",
        "    train_ds,\n",
        "    validation_data=val_ds,\n",
        "    epochs=epochs\n",
        ")\n",
        "\n",
        "print(\"Treinamento concluído!\")"
      ],
      "metadata": {
        "colab": {
          "base_uri": "https://localhost:8080/"
        },
        "outputId": "ca00c218-84a7-4cc2-ab2a-e472f664e804",
        "id": "cnltverP6tpD"
      },
      "execution_count": 17,
      "outputs": [
        {
          "output_type": "stream",
          "name": "stdout",
          "text": [
            "Epoch 1/13\n",
            "\u001b[1m24/24\u001b[0m \u001b[32m━━━━━━━━━━━━━━━━━━━━\u001b[0m\u001b[37m\u001b[0m \u001b[1m17s\u001b[0m 379ms/step - accuracy: 0.5073 - loss: 0.7314 - val_accuracy: 0.6535 - val_loss: 0.6426\n",
            "Epoch 2/13\n",
            "\u001b[1m24/24\u001b[0m \u001b[32m━━━━━━━━━━━━━━━━━━━━\u001b[0m\u001b[37m\u001b[0m \u001b[1m2s\u001b[0m 62ms/step - accuracy: 0.6301 - loss: 0.6454 - val_accuracy: 0.7009 - val_loss: 0.5984\n",
            "Epoch 3/13\n",
            "\u001b[1m24/24\u001b[0m \u001b[32m━━━━━━━━━━━━━━━━━━━━\u001b[0m\u001b[37m\u001b[0m \u001b[1m2s\u001b[0m 61ms/step - accuracy: 0.6617 - loss: 0.6144 - val_accuracy: 0.6820 - val_loss: 0.5837\n",
            "Epoch 4/13\n",
            "\u001b[1m24/24\u001b[0m \u001b[32m━━━━━━━━━━━━━━━━━━━━\u001b[0m\u001b[37m\u001b[0m \u001b[1m2s\u001b[0m 61ms/step - accuracy: 0.6814 - loss: 0.5868 - val_accuracy: 0.6930 - val_loss: 0.5803\n",
            "Epoch 5/13\n",
            "\u001b[1m24/24\u001b[0m \u001b[32m━━━━━━━━━━━━━━━━━━━━\u001b[0m\u001b[37m\u001b[0m \u001b[1m2s\u001b[0m 62ms/step - accuracy: 0.6960 - loss: 0.5704 - val_accuracy: 0.7009 - val_loss: 0.5817\n",
            "Epoch 6/13\n",
            "\u001b[1m24/24\u001b[0m \u001b[32m━━━━━━━━━━━━━━━━━━━━\u001b[0m\u001b[37m\u001b[0m \u001b[1m1s\u001b[0m 61ms/step - accuracy: 0.7078 - loss: 0.5566 - val_accuracy: 0.6946 - val_loss: 0.5855\n",
            "Epoch 7/13\n",
            "\u001b[1m24/24\u001b[0m \u001b[32m━━━━━━━━━━━━━━━━━━━━\u001b[0m\u001b[37m\u001b[0m \u001b[1m2s\u001b[0m 63ms/step - accuracy: 0.7068 - loss: 0.5420 - val_accuracy: 0.7405 - val_loss: 0.5187\n",
            "Epoch 8/13\n",
            "\u001b[1m24/24\u001b[0m \u001b[32m━━━━━━━━━━━━━━━━━━━━\u001b[0m\u001b[37m\u001b[0m \u001b[1m2s\u001b[0m 61ms/step - accuracy: 0.7500 - loss: 0.5131 - val_accuracy: 0.7184 - val_loss: 0.5618\n",
            "Epoch 9/13\n",
            "\u001b[1m24/24\u001b[0m \u001b[32m━━━━━━━━━━━━━━━━━━━━\u001b[0m\u001b[37m\u001b[0m \u001b[1m1s\u001b[0m 60ms/step - accuracy: 0.7522 - loss: 0.4947 - val_accuracy: 0.7595 - val_loss: 0.4898\n",
            "Epoch 10/13\n",
            "\u001b[1m24/24\u001b[0m \u001b[32m━━━━━━━━━━━━━━━━━━━━\u001b[0m\u001b[37m\u001b[0m \u001b[1m1s\u001b[0m 61ms/step - accuracy: 0.7758 - loss: 0.4693 - val_accuracy: 0.7532 - val_loss: 0.4908\n",
            "Epoch 11/13\n",
            "\u001b[1m24/24\u001b[0m \u001b[32m━━━━━━━━━━━━━━━━━━━━\u001b[0m\u001b[37m\u001b[0m \u001b[1m1s\u001b[0m 60ms/step - accuracy: 0.7726 - loss: 0.4640 - val_accuracy: 0.7611 - val_loss: 0.4609\n",
            "Epoch 12/13\n",
            "\u001b[1m24/24\u001b[0m \u001b[32m━━━━━━━━━━━━━━━━━━━━\u001b[0m\u001b[37m\u001b[0m \u001b[1m2s\u001b[0m 62ms/step - accuracy: 0.7857 - loss: 0.4336 - val_accuracy: 0.7674 - val_loss: 0.4816\n",
            "Epoch 13/13\n",
            "\u001b[1m24/24\u001b[0m \u001b[32m━━━━━━━━━━━━━━━━━━━━\u001b[0m\u001b[37m\u001b[0m \u001b[1m2s\u001b[0m 61ms/step - accuracy: 0.8197 - loss: 0.4121 - val_accuracy: 0.7911 - val_loss: 0.4337\n",
            "Treinamento concluído!\n"
          ]
        }
      ]
    },
    {
      "cell_type": "code",
      "source": [
        "acc = history.history['accuracy']\n",
        "val_acc = history.history['val_accuracy']  # Acurácia do conjunto de validação\n",
        "loss = history.history['loss']\n",
        "val_loss = history.history['val_loss']    # Perda do conjunto de validação\n",
        "\n",
        "epochs_range = range(len(acc))\n",
        "\n",
        "plt.figure(figsize=(12, 6))\n",
        "\n",
        "# --- Gráfico de Acurácia ---\n",
        "plt.subplot(1, 2, 1)\n",
        "plt.plot(epochs_range, acc, label='Acurácia de Treino')\n",
        "plt.plot(epochs_range, val_acc, label='Acurácia de Validação')\n",
        "plt.legend(loc='lower right')\n",
        "plt.title('Acurácia de Treino e Validação')\n",
        "plt.xlabel('Épocas')\n",
        "plt.ylabel('Acurácia')\n",
        "plt.grid(True)\n",
        "\n",
        "# --- Gráfico de Perda (Loss) ---\n",
        "plt.subplot(1, 2, 2)\n",
        "plt.plot(epochs_range, loss, label='Perda de Treino')\n",
        "plt.plot(epochs_range, val_loss, label='Perda de Validação')\n",
        "plt.legend(loc='upper right')\n",
        "plt.title('Perda de Treino e Validação')\n",
        "plt.xlabel('Épocas')\n",
        "plt.ylabel('Perda')\n",
        "plt.grid(True)\n",
        "\n",
        "plt.show()\n",
        "\n",
        "# Exibe os valores finais de acurácia e perda\n",
        "final_acc = acc[-1]\n",
        "final_val_acc = val_acc[-1]\n",
        "final_loss = loss[-1]\n",
        "final_val_loss = val_loss[-1]\n",
        "\n",
        "print(\"\\n--- Resultados Finais ---\")\n",
        "print(f\"Acurácia final de Treino: {final_acc:.4f}\")\n",
        "print(f\"Acurácia final de Validação: {final_val_acc:.4f}\")\n",
        "print(f\"Perda final de Treino: {final_loss:.4f}\")\n",
        "print(f\"Perda final de Validação: {final_val_loss:.4f}\")"
      ],
      "metadata": {
        "colab": {
          "base_uri": "https://localhost:8080/",
          "height": 671
        },
        "outputId": "890d8b5e-6c90-47af-a865-a04b5171ce5b",
        "id": "xAnLbtNz6tpE"
      },
      "execution_count": 18,
      "outputs": [
        {
          "output_type": "display_data",
          "data": {
            "text/plain": [
              "<Figure size 1200x600 with 2 Axes>"
            ],
            "image/png": "[encoded data removed]"
          },
          "metadata": {}
        },
        {
          "output_type": "stream",
          "name": "stdout",
          "text": [
            "\n",
            "--- Resultados Finais ---\n",
            "Acurácia final de Treino: 0.8197\n",
            "Acurácia final de Validação: 0.7911\n",
            "Perda final de Treino: 0.3986\n",
            "Perda final de Validação: 0.4337\n"
          ]
        }
      ]
    },
    {
      "cell_type": "markdown",
      "source": [
        "### Avaliação das Métricas"
      ],
      "metadata": {
        "id": "i350WED-6tpH"
      }
    },
    {
      "cell_type": "code",
      "source": [
        "from sklearn.metrics import confusion_matrix\n",
        "import seaborn as sns\n",
        "import matplotlib.pyplot as plt"
      ],
      "metadata": {
        "id": "fH4oe8ux6tpI"
      },
      "execution_count": 19,
      "outputs": []
    },
    {
      "cell_type": "code",
      "source": [
        "y_true = []\n",
        "y_pred_logits = []\n",
        "\n",
        "for images, labels in test_ds:\n",
        "    # rótulos reais\n",
        "    y_true.extend(labels.numpy())\n",
        "    # previsões\n",
        "    predictions = model.predict(images, verbose=0)\n",
        "    y_pred_logits.extend(predictions)\n",
        "\n",
        "y_pred = np.argmax(y_pred_logits, axis=1)\n",
        "\n",
        "# matriz confusão\n",
        "cm = confusion_matrix(y_true, y_pred)\n",
        "tn, fp, fn, tp = cm.ravel()\n",
        "\n",
        "# acurácia, precisão e recall\n",
        "accuracy = (tp + tn) / (tp + tn + fp + fn)\n",
        "precision = tp / (tp + fp)\n",
        "recall = tp / (tp + fn)"
      ],
      "metadata": {
        "id": "bhaAYVXg6tpI"
      },
      "execution_count": 20,
      "outputs": []
    },
    {
      "cell_type": "code",
      "source": [
        "class_names = ['empty', 'full']\n",
        "\n",
        "plt.figure(figsize=(8, 6))\n",
        "sns.heatmap(cm,\n",
        "            annot=True,          # Mostra os valores na matriz\n",
        "            fmt='d',             # Formato dos números (inteiro)\n",
        "            cmap='Blues',        # Mapa de cores\n",
        "            xticklabels=class_names,  # Rótulos do eixo X (Previsões)\n",
        "            yticklabels=class_names)  # Rótulos do eixo Y (Valores Reais)\n",
        "\n",
        "plt.xlabel('Previsões do Modelo')\n",
        "plt.ylabel('Valores Reais')\n",
        "plt.title('Matriz Confusão')\n",
        "plt.show()\n",
        "\n",
        "print(\"\\n Matriz Confusão\")\n",
        "print(f\"Verdadeiros Positivos (VP - Previsão 'full' correta): {tp}\")\n",
        "print(f\"Verdadeiros Negativos (VN - Previsão 'empty' correta): {tn}\")\n",
        "print(f\"Falsos Positivos (FP - Previsão 'full' incorreta): {fp}\")\n",
        "print(f\"Falsos Negativos (FN - Previsão 'empty' incorreta): {fn}\")\n",
        "\n",
        "print(\"\\n Métricas \")\n",
        "print(f\"Acurácia: {accuracy:.4f}\")\n",
        "print(f\"Precisão (para a classe 'full'): {precision:.4f}\")\n",
        "print(f\"Recall (para a classe 'full'): {recall:.4f}\")"
      ],
      "metadata": {
        "colab": {
          "base_uri": "https://localhost:8080/",
          "height": 755
        },
        "outputId": "e094156c-0f7d-4240-ccc8-f66e9f134778",
        "id": "WY5qKojJ6tpJ"
      },
      "execution_count": 21,
      "outputs": [
        {
          "output_type": "display_data",
          "data": {
            "text/plain": [
              "<Figure size 800x600 with 2 Axes>"
            ],
            "image/png": "[encoded data removed]"
          },
          "metadata": {}
        },
        {
          "output_type": "stream",
          "name": "stdout",
          "text": [
            "\n",
            " Matriz Confusão\n",
            "Verdadeiros Positivos (VP - Previsão 'full' correta): 107\n",
            "Verdadeiros Negativos (VN - Previsão 'empty' correta): 188\n",
            "Falsos Positivos (FP - Previsão 'full' incorreta): 9\n",
            "Falsos Negativos (FN - Previsão 'empty' incorreta): 80\n",
            "\n",
            " Métricas \n",
            "Acurácia: 0.7682\n",
            "Precisão (para a classe 'full'): 0.9224\n",
            "Recall (para a classe 'full'): 0.5722\n"
          ]
        }
      ]
    },
    {
      "cell_type": "markdown",
      "source": [
        "### Predição"
      ],
      "metadata": {
        "id": "Log9Q0-r6tpF"
      }
    },
    {
      "cell_type": "code",
      "source": [
        "\n",
        "def prever_nova_imagem(caminho_imagem, model):\n",
        "\n",
        "    img = cv2.imread(caminho_imagem, cv2.IMREAD_GRAYSCALE)\n",
        "\n",
        "    if img is None:\n",
        "        print(f\"Erro: Não foi possível carregar a imagem em {caminho_imagem}\")\n",
        "        return None, None\n",
        "\n",
        "    img_resized = cv2.resize(img, (128, 128), interpolation=cv2.INTER_AREA)\n",
        "\n",
        "    # normalização\n",
        "    img_normalized = img_resized.astype(\"float32\") / 255.0\n",
        "\n",
        "    # ajuste de dimensões\n",
        "    img_tensor = np.expand_dims(img_normalized, axis=-1)\n",
        "    img_tensor = np.expand_dims(img_tensor, axis=0)\n",
        "\n",
        "    # predição\n",
        "    predictions = model.predict(img_tensor)\n",
        "\n",
        "    # coletando logit com a maior probabilidade\n",
        "    predicted_class_index = np.argmax(predictions, axis=1)\n",
        "\n",
        "    probabilities = tf.nn.softmax(predictions).numpy()[0]\n",
        "\n",
        "    class_names = ['empty', 'full']\n",
        "    predicted_class = class_names[predicted_class_index[0]]\n",
        "\n",
        "    return predicted_class, probabilities\n"
      ],
      "metadata": {
        "id": "yiG1Bbpv6tpG"
      },
      "execution_count": 22,
      "outputs": []
    },
    {
      "cell_type": "code",
      "source": [
        "caminho_da_nova_imagem = '/content/dental12.png'\n",
        "\n",
        "classe_predita, probabilidades = prever_nova_imagem(caminho_da_nova_imagem, model)\n",
        "\n",
        "if classe_predita:\n",
        "    print(\"\\n--- Resultado da Predição ---\")\n",
        "    print(f\"A imagem é provavelmente: {classe_predita}\")\n",
        "    print(f\"Probabilidade de ser 'empty': {probabilidades[0]:.2f}\")\n",
        "    print(f\"Probabilidade de ser 'full': {probabilidades[1]:.2f}\")"
      ],
      "metadata": {
        "id": "Gj_zftQd6tpG",
        "colab": {
          "base_uri": "https://localhost:8080/"
        },
        "outputId": "265d4600-19a5-4329-f630-c5ea3f6be9f8"
      },
      "execution_count": 23,
      "outputs": [
        {
          "output_type": "stream",
          "name": "stdout",
          "text": [
            "Erro: Não foi possível carregar a imagem em /content/dental12.png\n"
          ]
        }
      ]
    },
    {
      "cell_type": "markdown",
      "source": [
        "## Testando o Gradio"
      ],
      "metadata": {
        "id": "DMTxouNEOuXM"
      }
    },
    {
      "cell_type": "code",
      "source": [
        "!pip install gradio"
      ],
      "metadata": {
        "id": "CtmS45pSOyU0"
      },
      "execution_count": null,
      "outputs": []
    },
    {
      "cell_type": "code",
      "source": [
        "import gradio as gr\n",
        "from PIL import Image"
      ],
      "metadata": {
        "id": "pQ4IbEJXPLba"
      },
      "execution_count": 26,
      "outputs": []
    },
    {
      "cell_type": "code",
      "source": [
        "class_names = ['empty', 'full']\n",
        "\n",
        "def classify_image(input_image):\n",
        "    img = np.array(input_image)\n",
        "\n",
        "    # redimensionar, converter para escala de cinza e normalizar\n",
        "    img_resized = tf.image.resize(img, (128, 128))\n",
        "    img_gray = tf.image.rgb_to_grayscale(img_resized)\n",
        "    img_normalized = img_gray / 255.0\n",
        "\n",
        "    # ajuste de formato\n",
        "    img_tensor = tf.expand_dims(img_normalized, axis=0)\n",
        "\n",
        "    predictions = model.predict(img_tensor, verbose=0)\n",
        "\n",
        "    # logits -> probabilidades\n",
        "    probabilities = tf.nn.softmax(predictions[0]).numpy()\n",
        "\n",
        "    # retorno das probabilidades\n",
        "    return {class_names[i]: float(probabilities[i]) for i in range(len(class_names))}\n",
        "\n",
        "demo = gr.Interface(\n",
        "    fn=classify_image,\n",
        "    inputs=gr.Image(type=\"pil\"),\n",
        "    outputs=gr.Label(),\n",
        "    title=\"Classificador de Embalagens Cheias e Vazias\",\n",
        "    description=\"Faça o upload de uma imagem de uma embalagem para classificá-la como 'cheia' ou 'vazia'.\"\n",
        ")\n",
        "\n",
        "demo.launch(share=True)"
      ],
      "metadata": {
        "colab": {
          "base_uri": "https://localhost:8080/",
          "height": 610
        },
        "id": "1lf1fYNbPFDq",
        "outputId": "54491816-a99b-4cf8-a167-df98258bbaeb"
      },
      "execution_count": 27,
      "outputs": [
        {
          "output_type": "stream",
          "name": "stdout",
          "text": [
            "Colab notebook detected. To show errors in colab notebook, set debug=True in launch()\n",
            "* Running on public URL: https://f7a976fcc9f2229689.gradio.live\n",
            "\n",
            "This share link expires in 1 week. For free permanent hosting and GPU upgrades, run `gradio deploy` from the terminal in the working directory to deploy to Hugging Face Spaces (https://huggingface.co/spaces)\n"
          ]
        },
        {
          "output_type": "display_data",
          "data": {
            "text/plain": [
              "<IPython.core.display.HTML object>"
            ],
            "text/html": [
              "<div><iframe src=\"https://f7a976fcc9f2229689.gradio.live\" width=\"100%\" height=\"500\" allow=\"autoplay; camera; microphone; clipboard-read; clipboard-write;\" frameborder=\"0\" allowfullscreen></iframe></div>"
            ]
          },
          "metadata": {}
        },
        {
          "output_type": "execute_result",
          "data": {
            "text/plain": []
          },
          "metadata": {},
          "execution_count": 27
        }
      ]
    },
    {
      "cell_type": "code",
      "source": [],
      "metadata": {
        "id": "A965ikVtP6Mk"
      },
      "execution_count": null,
      "outputs": []
    }
  ]
}